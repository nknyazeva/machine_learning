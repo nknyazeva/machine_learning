{
 "cells": [
  {
   "cell_type": "markdown",
   "metadata": {
    "slideshow": {
     "slide_type": "slide"
    }
   },
   "source": [
    "# tSNE"
   ]
  },
  {
   "cell_type": "markdown",
   "metadata": {
    "slideshow": {
     "slide_type": "fragment"
    }
   },
   "source": [
    "[![Alt text](vkontakte.jpg)](https://youtu.be/7uFQsBOTiZs)"
   ]
  },
  {
   "cell_type": "markdown",
   "metadata": {
    "slideshow": {
     "slide_type": "slide"
    }
   },
   "source": [
    "Начнем издалека...\n",
    "\n",
    "Давайте зададим величину, определяющую сходство точек.\n",
    "\n",
    "$$\n",
    "p_{j|i} = \\frac{\\exp\\big(-||x_i-x_j||^2/2\\sigma_i^2\\big)}{\\sum_{k\\neq i}\\exp\\big(-||x_i-x_k||^2/2\\sigma_i^2\\big)}\n",
    "$$\n",
    "\n",
    "Мера того, насколько $x_j$ близка к $x_i$ при гауссовском распределении вокруг $x_i$ с отклонением $\\sigma$.\n",
    "\n",
    "$\\sigma$ выбирается по принципу \"больше плотность - меньше $\\sigma$\"."
   ]
  },
  {
   "cell_type": "markdown",
   "metadata": {
    "slideshow": {
     "slide_type": "fragment"
    }
   },
   "source": [
    "Чуть более подробней - минимизируется величина, называемая [перплексией](https://en.wikipedia.org/wiki/Perplexity), $Pepr(P_i)=2^{H(P_i)}$, где $H(P_i)=-\\sum_j p_{j|i}\\log_2 p_{j|i}$ - энтропия."
   ]
  },
  {
   "cell_type": "markdown",
   "metadata": {
    "slideshow": {
     "slide_type": "fragment"
    }
   },
   "source": [
    "Рекомендуется выбирать $\\sigma$ в интервале $(5, 50)$, например, используя бинарный поиск."
   ]
  },
  {
   "cell_type": "markdown",
   "metadata": {
    "slideshow": {
     "slide_type": "slide"
    }
   },
   "source": [
    "Теперь представим, что каждому исходному объекту соответствует объект в пространстве меньшей размерности.\n",
    "\n",
    "Хотелось бы, что если пара исходных объектов были близки, то близки и их образы.\n",
    "\n",
    "То есть, если задать\n",
    "\n",
    "$$\n",
    "q_{j|i} = \\frac{\\exp\\big(-||y_i-y_j||^2\\big)}{\\sum_{k\\neq i}\\exp\\big(-||y_i-y_k||^2\\big)},\n",
    "$$\n",
    "\n",
    "то хотелось бы, чтобы эти условные вероятности были похожи."
   ]
  },
  {
   "cell_type": "markdown",
   "metadata": {
    "slideshow": {
     "slide_type": "fragment"
    }
   },
   "source": [
    "Давайте померяем \"похожесть\" распределений вероятности с помощью [расстояния Кульбака-Лейблера](https://ru.wikipedia.org/wiki/Расстояние_Кульбака_—_Лейблера)"
   ]
  },
  {
   "cell_type": "markdown",
   "metadata": {
    "slideshow": {
     "slide_type": "fragment"
    }
   },
   "source": [
    "$$\n",
    "Cost = \\sum_i KL(P_i, Q_i) = \\sum_i\\sum_j p_{j|i}\\log\\frac{p_{j|i}}{q_{j|i}},\n",
    "$$\n",
    "\n",
    "причем\n",
    "\n",
    "$$\n",
    "\\frac{\\partial Cost}{\\partial y_i} = 2\\sum_j(p_{j|i} - q_{j|i} + p_{i|j} - q_{i|j})(y_i-y_j).\n",
    "$$\n",
    "\n"
   ]
  },
  {
   "cell_type": "markdown",
   "metadata": {
    "slideshow": {
     "slide_type": "fragment"
    }
   },
   "source": [
    "Градиентный спуск (SNE):\n",
    "\n",
    "$$\n",
    "Y^t = Y^{t-1} - \\eta\\frac{\\partial Cost}{\\partial Y} + \\alpha(t)(Y^{t-1} - Y^{t-2})\n",
    "$$"
   ]
  },
  {
   "cell_type": "markdown",
   "metadata": {
    "slideshow": {
     "slide_type": "slide"
    }
   },
   "source": [
    "**tSNE**\n",
    "\n",
    "$$\n",
    "p_{ij}=\\frac{p_{j|i}+p_{i|j}}{2l}\n",
    "$$\n",
    "\n",
    "$$\n",
    "q_{ij}=\\frac{(1+||y_i-y_j||^2)^{-1}}{\\sum_{k\\neq l}(1+||y_i-y_j||^2)^{-1}}\n",
    "$$\n",
    "\n",
    "$$\n",
    "Cost=KL(P, Q)=\\sum_i\\sum_j p_{ij}\\log\\frac{p_{ij}}{q_{ij}}\n",
    "$$\n",
    "\n",
    "$$\n",
    "\\frac{\\partial Cost}{\\partial y_i}=4\\sum_j(p_{ij}-q_{ij})(y_i-y_j)(1+||y_i-y_j||^2)^{-1}\n",
    "$$"
   ]
  },
  {
   "cell_type": "markdown",
   "metadata": {
    "slideshow": {
     "slide_type": "fragment"
    }
   },
   "source": [
    "[Реализация](http://scikit-learn.org/stable/modules/generated/sklearn.manifold.TSNE.html)\n",
    "\n",
    "[Примеры](https://distill.pub/2016/misread-tsne/)"
   ]
  },
  {
   "cell_type": "markdown",
   "metadata": {
    "slideshow": {
     "slide_type": "fragment"
    }
   },
   "source": [
    "![](tsne.gif)"
   ]
  }
 ],
 "metadata": {
  "celltoolbar": "Slideshow",
  "kernelspec": {
   "display_name": "Python 3",
   "language": "python",
   "name": "python3"
  },
  "language_info": {
   "codemirror_mode": {
    "name": "ipython",
    "version": 3
   },
   "file_extension": ".py",
   "mimetype": "text/x-python",
   "name": "python",
   "nbconvert_exporter": "python",
   "pygments_lexer": "ipython3",
   "version": "3.6.1"
  }
 },
 "nbformat": 4,
 "nbformat_minor": 2
}
