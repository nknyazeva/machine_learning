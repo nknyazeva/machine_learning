{
 "cells": [
  {
   "cell_type": "code",
   "execution_count": 54,
   "metadata": {},
   "outputs": [],
   "source": [
    "import pandas as pd\n",
    "import numpy as np\n",
    "import matplotlib.pyplot as plt\n",
    "from sklearn.model_selection import train_test_split\n",
    "from sklearn.metrics import accuracy_score, confusion_matrix, log_loss\n",
    "from sklearn.neighbors import KNeighborsClassifier\n",
    "from sklearn.ensemble import RandomForestClassifier\n",
    "import xgboost\n",
    "from xgboost import XGBClassifier\n",
    "import time \n",
    "import keras\n",
    "from keras import Sequential\n",
    "from keras.layers import Dense, Activation, Dropout\n",
    "from keras.optimizers import SGD\n",
    "from keras.regularizers import l2\n",
    "from keras.utils import to_categorical\n",
    "from sklearn.metrics import precision_score\n",
    "from sklearn.metrics import log_loss\n",
    "import time\n",
    "from sklearn.metrics import confusion_matrix\n",
    "%matplotlib inline"
   ]
  },
  {
   "cell_type": "markdown",
   "metadata": {},
   "source": [
    "Будем работаьт с датасетом, составленным из рукописных \"картинок\" цифр. Возьмем полную версию датасета - картинки будут размером 28х28, а общее число картинок - 42000. Загрузим датасет и разобъем его на выборки для обучения и контроля. Для ускорения работы возьмем небольшую часть датасета, например, 3%. Отладим на ней код, а потом запустим расчеты на больших данных. Вычисления будут трудоемкими, если брать весь датасет, поэтому для итоговых вычислений будем брать только его часть (40%)."
   ]
  },
  {
   "cell_type": "code",
   "execution_count": 127,
   "metadata": {},
   "outputs": [],
   "source": [
    "# SAMPLE_FRACTION = .03\n",
    "SAMPLE_FRACTION = .4\n",
    "\n",
    "def load_data():\n",
    "    data = pd.read_csv('train.csv')\n",
    "    data = data.sample(frac=SAMPLE_FRACTION)\n",
    "    labels = data['label'].values\n",
    "    digits = data.drop('label', 1).values\n",
    "    return digits, labels"
   ]
  },
  {
   "cell_type": "code",
   "execution_count": 128,
   "metadata": {},
   "outputs": [],
   "source": [
    "digits, labels = load_data()\n",
    "X_train, X_test, y_train, y_test = train_test_split(digits, labels, test_size=0.25)"
   ]
  },
  {
   "cell_type": "markdown",
   "metadata": {},
   "source": [
    "В качестве базового решения посмотрим на известные нам алгоритмы. Возьмем kNN и Random Forest. Обучим их (гиперпараметры оставим по умолчанию), посчитаем точность и logloss на тестовой выборке. "
   ]
  },
  {
   "cell_type": "markdown",
   "metadata": {},
   "source": [
    "Для классификаторов, которые умеют рассчитывать вероятности, [logloss](http://scikit-learn.org/stable/modules/generated/sklearn.metrics.log_loss.html) вычесляется по следующей формуле :\n",
    "$$logloss = -\\dfrac{1}{N}\\sum_{i=1}^N (y_i\\log{p_i} + (1-y_i)\\log{(1 - p_i)})$$"
   ]
  },
  {
   "cell_type": "code",
   "execution_count": 125,
   "metadata": {},
   "outputs": [],
   "source": [
    "def classification(classifier, name_classifier):\n",
    "    start = time.time()\n",
    "    classifier.fit(X_train, y_train)\n",
    "    end = time.time()\n",
    "    fit_time = end - start\n",
    "    y_true = y_test\n",
    "    start = time.time()\n",
    "    y_pred = classifier.predict(X_test)\n",
    "    end = time.time()\n",
    "    predict_time = end - start\n",
    "    y_prob = classifier.predict_proba(X_test)\n",
    "    print(name_classifier, 'fit_time:', fit_time)\n",
    "    print(name_classifier, 'predict_time:', predict_time)\n",
    "    print(name_classifier, 'precision_score:', precision_score(y_true, y_pred, average = 'micro'))\n",
    "    print(name_classifier, 'logloss in', log_loss(y_true, y_prob))\n"
   ]
  },
  {
   "cell_type": "code",
   "execution_count": 47,
   "metadata": {},
   "outputs": [
    {
     "name": "stdout",
     "output_type": "stream",
     "text": [
      "Random Forest fit_time: 0.9160201549530029\n",
      "Random Forest predict_time: 0.03983592987060547\n",
      "Random Forest precision_score: 0.917857142857\n",
      "Random Forest logloss in 0.64699235102\n",
      "kNN fit_time: 1.3131308555603027\n",
      "kNN predict_time: 77.69097805023193\n",
      "kNN precision_score: 0.945714285714\n",
      "kNN logloss in 0.567190213484\n"
     ]
    }
   ],
   "source": [
    "random_forest = RandomForestClassifier(random_state = 1)\n",
    "knn = KNeighborsClassifier()\n",
    "classification(random_forest, 'Random Forest')\n",
    "classification(knn, 'kNN')"
   ]
  },
  {
   "cell_type": "markdown",
   "metadata": {},
   "source": [
    "На 40% датасета по точности и по logloss лучше сработал алгоритм kNN без подбора параметров, чем Random Forest, хотя предсказывал kNN существенно дольше (и обучался немного дольше).  "
   ]
  },
  {
   "cell_type": "markdown",
   "metadata": {},
   "source": [
    "Далее целевой метрикой для нас будет logloss. Точность также будем вычислять, как более интерпретируемую метрику."
   ]
  },
  {
   "cell_type": "markdown",
   "metadata": {},
   "source": [
    "### XGBoost"
   ]
  },
  {
   "cell_type": "markdown",
   "metadata": {},
   "source": [
    "Усталовим бублиотеку [xgboost.](https://xgboost.readthedocs.io/en/latest/build.html) Реализация бустинга есть и в sklearn, но в ней уделено сильно меньше внимания регуляризации и скорости, поэтому мы будем использовать xgboost. "
   ]
  },
  {
   "cell_type": "markdown",
   "metadata": {},
   "source": [
    "Возьмем классификатор с настройками по умолчанию. Установим nthread (n_jobs) на -1 для ускорения расчета. Документацию можно найти [тут](http://xgboost.readthedocs.io/en/latest/python/python_api.html#xgboost.XGBClassifier)."
   ]
  },
  {
   "cell_type": "code",
   "execution_count": 50,
   "metadata": {},
   "outputs": [],
   "source": [
    "xgboost_classifier = XGBClassifier(nthread = - 1)"
   ]
  },
  {
   "cell_type": "markdown",
   "metadata": {},
   "source": [
    "Обучим его и предскажем метки для тестовой выборки. Выведем logloss, точность классификации и confusion matrix для обученного классификатора. "
   ]
  },
  {
   "cell_type": "code",
   "execution_count": 51,
   "metadata": {},
   "outputs": [
    {
     "name": "stdout",
     "output_type": "stream",
     "text": [
      "XGBoost fit_time: 101.03579521179199\n",
      "XGBoost predict_time: 0.1419830322265625\n",
      "XGBoost precision_score: 0.929523809524\n",
      "XGBoost logloss in 0.267124512232\n",
      "XGBoost confusion_matrix:  [[410   1   1   0   0   1   3   0   7   0]\n",
      " [  0 439   1   4   1   0   2   2   1   0]\n",
      " [  3   7 386   4   5   0   7   7   5   3]\n",
      " [  1   0   5 433   2  10   0   1   6   3]\n",
      " [  1   1   1   0 356   2   4   0   3  15]\n",
      " [  2   3   1  14   4 367   6   1   5   4]\n",
      " [  4   1   1   0   0   6 398   0   4   0]\n",
      " [  2   2  11   2   6   2   0 407   4  10]\n",
      " [  2   9   2   9   2   2   2   1 344  11]\n",
      " [  1   5   2   2  16   6   0   8   1 364]]\n"
     ]
    }
   ],
   "source": [
    "classification(xgboost_classifier, 'XGBoost')"
   ]
  },
  {
   "cell_type": "markdown",
   "metadata": {},
   "source": [
    "В сумме время обучения и время предсказания у алгоритма XGBoost больше, чем у алгоритмов kNN и Random Forest, однако стоит отметить, что XGBoost долго обучался, а предсказывал относительно быстро. Точность этого алгоритма получилась немного меньше, чем у алгоритма kNN, но функция потерь logloss примерно в два раза меньше, что хорошо. Классификатор склонен давать больше ошибок на некоторых классах, что можно увидеть из confusion matrix. "
   ]
  },
  {
   "cell_type": "markdown",
   "metadata": {},
   "source": [
    "[Визуализируем](https://stackoverflow.com/questions/33282368/plotting-a-2d-heatmap-with-matplotlib) важность признаков (feature importances) на картинке 28х28. "
   ]
  },
  {
   "cell_type": "code",
   "execution_count": 73,
   "metadata": {},
   "outputs": [
    {
     "data": {
      "image/png": "[encoded data removed]",
      "text/plain": [
       "<matplotlib.figure.Figure at 0x110c26f60>"
      ]
     },
     "metadata": {},
     "output_type": "display_data"
    }
   ],
   "source": [
    "# https://stackoverflow.com/questions/33282368/plotting-a-2d-heatmap-with-matplotlib\n",
    "xgb_data = xgboost_classifier.feature_importances_\n",
    "feature_importances = [xgb_data[x:x+28] for x in range(0, len(xgb_data), 28)]\n",
    "plt.imshow(feature_importances, cmap='hot', interpolation='nearest')\n",
    "plt.show()\n"
   ]
  },
  {
   "cell_type": "markdown",
   "metadata": {},
   "source": [
    "Самые важные пиксели для классификации расположены в центре изображения, потому что они несут основную информацию о том, какая цифра написана на картинке (цифры обычно располагаются в центре изображения). Пиксели по краям не несут информации, потому что они должны быть одинаковыми на всех изображениях. "
   ]
  },
  {
   "cell_type": "markdown",
   "metadata": {},
   "source": [
    "Попробуем потюнить XGBoost."
   ]
  },
  {
   "cell_type": "markdown",
   "metadata": {
    "collapsed": true
   },
   "source": [
    "Выберем относительно большую learning_rate ($\\eta\\in[0.05,0.3]$), подберем оптимальное число деревьев для выбранного $\\eta$. В методе `fit` зададим `eval_metric`, равное `mlogloss`, в `eval_set` передадим `[(X_test, y_test)]`; таким образом, мы сможем получать качество классификации после каждого обученного базового классификатора. Можно регулировать \"болтливость\" метода обучения с помощью параметры `verbose` (например, задать его равным 10)."
   ]
  },
  {
   "cell_type": "code",
   "execution_count": 116,
   "metadata": {},
   "outputs": [],
   "source": [
    "mean_mlogloss = []\n",
    "for n in np.arange(1, 1000, 100):\n",
    "    xgboost_classifier_tune = XGBClassifier(nthread = - 1, learning_rate = 0.2, n_estimators = n)\n",
    "    xgboost_classifier_tune.fit(X_train, y_train, eval_metric = 'mlogloss', \n",
    "                                eval_set = [(X_test, y_test)], verbose = None)\n",
    "    mean_mlogloss.append(np.asarray(xgboost_classifier_tune.evals_result()['validation_0']['mlogloss']).mean())"
   ]
  },
  {
   "cell_type": "markdown",
   "metadata": {},
   "source": [
    "Построим график зависимости качества классификации от числа базовых классификаторов (для этого можете воспользоваться методом `evals_result`). "
   ]
  },
  {
   "cell_type": "code",
   "execution_count": 117,
   "metadata": {},
   "outputs": [
    {
     "data": {
      "image/png": "[encoded data removed]",
      "text/plain": [
       "<matplotlib.figure.Figure at 0x1104e8898>"
      ]
     },
     "metadata": {},
     "output_type": "display_data"
    }
   ],
   "source": [
    "plt.figure(figsize=(18, 8))\n",
    "plt.plot(np.arange(1, 1000, 100), mean_mlogloss)\n",
    "plt.xticks(np.arange(1, 1000, 100))\n",
    "plt.title('XGBoost')\n",
    "plt.ylabel('log_loss')\n",
    "plt.xlabel('n_estimators');\n",
    "    "
   ]
  },
  {
   "cell_type": "markdown",
   "metadata": {},
   "source": [
    "График зависимости log_loss плавно вышел на плато примерно после n_estimators = 500, хотя нехначительное уменьшение log_loss наблюдается и после этого значения. Но поскольку время работы алгоритма велико, я не стала брать большие значения n_estimators. "
   ]
  },
  {
   "cell_type": "markdown",
   "metadata": {},
   "source": [
    "Зафиксируем количество деревьев равным 500. Настроим параметры деревьев, начиная с самых значимых (`max_depth`, `min_child_weight`, `gamma`, `colsample_bytree`).\n",
    "\n",
    "Правильно подбирать эти параметры по сетке, но данный перебор был бы чересчур трудоемким. Поэтому будем подбирать их последовательно."
   ]
  },
  {
   "cell_type": "code",
   "execution_count": 124,
   "metadata": {
    "scrolled": true
   },
   "outputs": [],
   "source": [
    "mean_mlogloss = []\n",
    "for n in np.arange(1, 6, 1):\n",
    "    xgboost_classifier_tune = XGBClassifier(nthread = - 1, learning_rate = 0.2, n_estimators = 500, max_depth = n)\n",
    "    xgboost_classifier_tune.fit(X_train, y_train, eval_metric = 'mlogloss', \n",
    "                                eval_set = [(X_test, y_test)], verbose = None)\n",
    "    mean_mlogloss.append(np.asarray(xgboost_classifier_tune.evals_result()['validation_0']['mlogloss']).mean())"
   ]
  },
  {
   "cell_type": "code",
   "execution_count": 123,
   "metadata": {},
   "outputs": [
    {
     "data": {
      "image/png": "[encoded data removed]",
      "text/plain": [
       "<matplotlib.figure.Figure at 0x10eece080>"
      ]
     },
     "metadata": {},
     "output_type": "display_data"
    }
   ],
   "source": [
    "plt.figure(figsize=(10, 6))\n",
    "plt.plot(np.arange(1, 6, 1), mean_mlogloss)\n",
    "plt.xticks(np.arange(1, 6, 1))\n",
    "plt.title('XGBoost, n_estimators = 500')\n",
    "plt.ylabel('log_loss')\n",
    "plt.xlabel('max_depth');"
   ]
  },
  {
   "cell_type": "markdown",
   "metadata": {},
   "source": [
    "Для 40% датасета алгоритм за всю ночь не смог построить этот график, поэтому этот график для 3% датасета. Оптимальным значением по нему можно считать max_depth = 4. "
   ]
  },
  {
   "cell_type": "code",
   "execution_count": 129,
   "metadata": {},
   "outputs": [
    {
     "name": "stdout",
     "output_type": "stream",
     "text": [
      "XGBoost fit_time: 568.3178749084473\n",
      "XGBoost predict_time: 0.9059948921203613\n",
      "XGBoost precision_score: 0.959523809524\n",
      "XGBoost logloss in 0.131661525823\n"
     ]
    }
   ],
   "source": [
    "xgboost_classifier_tune = XGBClassifier(nthread = - 1, learning_rate = 0.2, n_estimators = 500, max_depth = 4)\n",
    "classification(xgboost_classifier_tune, 'XGBoost')"
   ]
  },
  {
   "cell_type": "markdown",
   "metadata": {},
   "source": [
    "Для 40% датасета max_depth = 4 не подходит, потому что качество получилось ниже, чем с max_depth по умолчанию. "
   ]
  },
  {
   "cell_type": "markdown",
   "metadata": {},
   "source": [
    "Так как все считается очень долго, а неделя зачетная, я пока остановилась на этом в выполнении данного прака. "
   ]
  },
  {
   "cell_type": "code",
   "execution_count": null,
   "metadata": {},
   "outputs": [],
   "source": []
  }
 ],
 "metadata": {
  "anaconda-cloud": {},
  "kernelspec": {
   "display_name": "Python 3",
   "language": "python",
   "name": "python3"
  },
  "language_info": {
   "codemirror_mode": {
    "name": "ipython",
    "version": 3
   },
   "file_extension": ".py",
   "mimetype": "text/x-python",
   "name": "python",
   "nbconvert_exporter": "python",
   "pygments_lexer": "ipython3",
   "version": "3.6.3"
  }
 },
 "nbformat": 4,
 "nbformat_minor": 1
}
