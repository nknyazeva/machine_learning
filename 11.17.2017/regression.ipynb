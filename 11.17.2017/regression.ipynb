{
 "cells": [
  {
   "cell_type": "markdown",
   "metadata": {
    "slideshow": {
     "slide_type": "slide"
    }
   },
   "source": [
    "# Регрессия"
   ]
  },
  {
   "cell_type": "code",
   "execution_count": 4,
   "metadata": {
    "collapsed": true,
    "slideshow": {
     "slide_type": "skip"
    }
   },
   "outputs": [],
   "source": [
    "import numpy as np\n",
    "import matplotlib.pyplot as plt\n",
    "%matplotlib inline"
   ]
  },
  {
   "cell_type": "markdown",
   "metadata": {
    "slideshow": {
     "slide_type": "fragment"
    }
   },
   "source": [
    "$X$ - пространство объектов;<br>\n",
    "$Y\\in \\mathcal{R}$ - пространство ответов;<br>\n",
    "$y: X \\rightarrow Y$ - неизвестная функция.\n",
    "\n",
    "**Дано:**  \n",
    "$\\{x_1, \\ldots, x_l\\}\\subset X$ - обучающая выборка (training sample);<br>\n",
    "$y_i=y(x_i), i=1,\\ldots,l$ - известные ответы.\n",
    "\n",
    "**Найти:**<br>\n",
    "$a: X \\rightarrow Y$ - алгоритм, приближающий $y$ на всем множестве $X$."
   ]
  },
  {
   "cell_type": "markdown",
   "metadata": {
    "slideshow": {
     "slide_type": "slide"
    }
   },
   "source": [
    "#### Пример линейной регрессии"
   ]
  },
  {
   "cell_type": "markdown",
   "metadata": {
    "slideshow": {
     "slide_type": "fragment"
    }
   },
   "source": [
    "<img src=\"price.png\" style=\"width: 365px;\"/>"
   ]
  },
  {
   "cell_type": "markdown",
   "metadata": {
    "slideshow": {
     "slide_type": "fragment"
    }
   },
   "source": [
    "$$\n",
    "price = a * square + b + \\varepsilon\n",
    "$$"
   ]
  },
  {
   "cell_type": "markdown",
   "metadata": {
    "slideshow": {
     "slide_type": "fragment"
    }
   },
   "source": [
    "$$\n",
    "y = ax + b + \\varepsilon\n",
    "$$"
   ]
  },
  {
   "cell_type": "markdown",
   "metadata": {
    "slideshow": {
     "slide_type": "subslide"
    }
   },
   "source": [
    "$$\n",
    "\\sum_{i=1}^l(y_i - ax_i - b)^2\\rightarrow\\min_{a, b}\n",
    "$$"
   ]
  },
  {
   "cell_type": "markdown",
   "metadata": {
    "slideshow": {
     "slide_type": "fragment"
    }
   },
   "source": [
    "Задача на нахождение глобального минимума."
   ]
  },
  {
   "cell_type": "markdown",
   "metadata": {
    "slideshow": {
     "slide_type": "fragment"
    }
   },
   "source": [
    "$$\n",
    "a = \\frac{\\overline{xy} - \\overline{x}\\overline{y}}{\\overline{x^2} - \\overline{x}^2}\n",
    "$$\n",
    "\n",
    "$$\n",
    "b = \\overline{y} - a\\overline{x}\n",
    "$$"
   ]
  },
  {
   "cell_type": "markdown",
   "metadata": {
    "slideshow": {
     "slide_type": "subslide"
    }
   },
   "source": [
    "<img src=\"price_reg.png\" style=\"width: 365px;\"/>"
   ]
  },
  {
   "cell_type": "markdown",
   "metadata": {
    "slideshow": {
     "slide_type": "slide"
    }
   },
   "source": [
    "#### Общий случай"
   ]
  },
  {
   "cell_type": "markdown",
   "metadata": {
    "slideshow": {
     "slide_type": "fragment"
    }
   },
   "source": [
    "Матрица \"объекты-признаки\"\n",
    "$$\n",
    "X = \\begin{pmatrix} f_1(x_1) & \\ldots & f_n(x_1) \\\\ \\ldots & \\ldots & \\ldots \\\\ f_1(x_l) & \\ldots & f_n(x_l) \\end{pmatrix}\n",
    "$$\n",
    "Вектор истинных ответов\n",
    "$$\n",
    "y = \\begin{pmatrix} y_1 \\\\ \\ldots \\\\ y_l \\end{pmatrix}\n",
    "$$\n",
    "Вектор коэффициентов модели\n",
    "$$\n",
    "\\alpha = \\begin{pmatrix} \\alpha_1 \\\\ \\ldots \\\\ \\alpha_n \\end{pmatrix}\n",
    "$$"
   ]
  },
  {
   "cell_type": "markdown",
   "metadata": {
    "slideshow": {
     "slide_type": "subslide"
    }
   },
   "source": [
    "$$\n",
    "Q(a, X^l)=\\sum_{i=1}^l\\big(f(x_i, \\alpha)-y_i\\big)^2 = \\big|\\big|X\\alpha -y\\big|\\big|^2\\rightarrow\\min_\\alpha\n",
    "$$"
   ]
  },
  {
   "cell_type": "markdown",
   "metadata": {
    "slideshow": {
     "slide_type": "fragment"
    }
   },
   "source": [
    "$$\n",
    "\\frac{\\partial Q}{\\partial \\alpha}(\\alpha)=2X^T(X\\alpha-y)=0\n",
    "$$"
   ]
  },
  {
   "cell_type": "markdown",
   "metadata": {
    "slideshow": {
     "slide_type": "fragment"
    }
   },
   "source": [
    "$$\n",
    "X^TX\\alpha=X^Ty\n",
    "$$"
   ]
  },
  {
   "cell_type": "markdown",
   "metadata": {
    "slideshow": {
     "slide_type": "fragment"
    }
   },
   "source": [
    "$$\n",
    "\\alpha^* = (X^TX)^{-1}X^Ty=X^+y\n",
    "$$"
   ]
  },
  {
   "cell_type": "markdown",
   "metadata": {
    "slideshow": {
     "slide_type": "fragment"
    }
   },
   "source": [
    "Проблема в том, что $X^TX$ может быть плохо обратима."
   ]
  },
  {
   "cell_type": "code",
   "execution_count": 59,
   "metadata": {
    "collapsed": true,
    "slideshow": {
     "slide_type": "skip"
    }
   },
   "outputs": [],
   "source": [
    "def plot_solution(A):\n",
    "    np.random.seed(1)\n",
    "    X = np.vstack((\n",
    "        np.random.normal(loc=8.0, scale=.3, size=10),\n",
    "        np.random.normal(loc=16.0, scale=.3, size=10)\n",
    "    ))\n",
    "    f, (ax1, ax2) = plt.subplots(1, 2, figsize=(12, 6))\n",
    "    ax1.arrow(0., 0., A[0, 0], A[1, 0], fc=\"k\", ec=\"k\", head_width=0.3, head_length=0.5)\n",
    "    ax1.arrow(0., 0., A[0, 1], A[1, 1], fc=\"k\", ec=\"k\", head_width=0.3, head_length=0.5)\n",
    "    ax1.set_xlim(min(np.min(A[0]), 0) - 1, max(np.max(A[0]), 0) + 1)\n",
    "    ax1.set_ylim(min(np.min(A[1]), 0) - 1, max(np.max(A[1]), 0) + 1)\n",
    "    ax1.scatter(X[0], X[1]);\n",
    "    solution = np.linalg.inv(A).dot(X)\n",
    "    ax2.scatter(solution[0], solution[1]);"
   ]
  },
  {
   "cell_type": "code",
   "execution_count": 60,
   "metadata": {
    "slideshow": {
     "slide_type": "subslide"
    }
   },
   "outputs": [
    {
     "data": {
      "image/png": "[encoded data removed]",
      "text/plain": [
       "<matplotlib.figure.Figure at 0x29d10e99b00>"
      ]
     },
     "metadata": {},
     "output_type": "display_data"
    }
   ],
   "source": [
    "A = np.array([\n",
    "    [13, 14],\n",
    "    [-18, 19]\n",
    "])\n",
    "plot_solution(A)"
   ]
  },
  {
   "cell_type": "code",
   "execution_count": 61,
   "metadata": {
    "slideshow": {
     "slide_type": "subslide"
    }
   },
   "outputs": [
    {
     "data": {
      "image/png": "[encoded data removed]",
      "text/plain": [
       "<matplotlib.figure.Figure at 0x29d11183470>"
      ]
     },
     "metadata": {},
     "output_type": "display_data"
    }
   ],
   "source": [
    "A = np.array([\n",
    "    [13, 14],\n",
    "    [18, 19]\n",
    "])\n",
    "plot_solution(A)"
   ]
  },
  {
   "cell_type": "markdown",
   "metadata": {
    "slideshow": {
     "slide_type": "subslide"
    }
   },
   "source": [
    "$$\n",
    "X^+ = (USV^TVSU^T)^{-1}USV^T=US^{-1}V^T=\\sum_{j=1}^n\\frac{1}{\\sqrt{\\lambda_j}}u_jv_j^T\n",
    "$$\n",
    "$$\n",
    "\\alpha^* = X^+y = US^{-1}V^Ty=\\sum_{j=1}^n\\frac{1}{\\sqrt{\\lambda_j}}u_j(v_j^Ty)\n",
    "$$\n",
    "$$\n",
    "\\big|\\big|\\alpha^*\\big|\\big|^2 = \\big|\\big|S^{-1}V^Ty\\big|\\big|^2 =\\sum_{j=1}^n\\frac{1}{\\lambda_j}(v_j^Ty)^2\n",
    "$$"
   ]
  },
  {
   "cell_type": "markdown",
   "metadata": {
    "slideshow": {
     "slide_type": "fragment"
    }
   },
   "source": [
    "Число обусловленности\n",
    "\n",
    "$$\n",
    "\\mu(S) = \\frac{\\lambda_\\max}{\\lambda_\\min}\n",
    "$$"
   ]
  },
  {
   "cell_type": "markdown",
   "metadata": {
    "slideshow": {
     "slide_type": "fragment"
    }
   },
   "source": [
    "Если матрица $C=X^TX$ плохо обусловлена, то:\n",
    "\n",
    "1) решение неустойчиво и плохо интерпретируемо;<br>\n",
    "2) $\\big|\\big|\\alpha^*\\big|\\big|$ велико;<br>\n",
    "3) возникает переобучение."
   ]
  },
  {
   "cell_type": "markdown",
   "metadata": {
    "slideshow": {
     "slide_type": "fragment"
    }
   },
   "source": [
    "Решение проблемы:\n",
    "\n",
    "1) регуляризация: $\\big|\\big|\\alpha\\big|\\big|\\rightarrow\\min$;<br>\n",
    "2) отбор признаков: $f_1, \\ldots, f_n\\rightarrow f_{j_1},\\ldots, f_{j_m}$, $m\\ll n$;<br>\n",
    "3) преобразование признаков: $f_1,\\ldots,f_n\\rightarrow g_1, \\ldots, g_m$, $m\\ll n$."
   ]
  },
  {
   "cell_type": "markdown",
   "metadata": {
    "slideshow": {
     "slide_type": "slide"
    }
   },
   "source": [
    "## Регуляризация"
   ]
  },
  {
   "cell_type": "markdown",
   "metadata": {
    "slideshow": {
     "slide_type": "fragment"
    }
   },
   "source": [
    "Вместо\n",
    "\n",
    "$$\n",
    "Q(a, X^l)= \\big|\\big|X\\alpha -y\\big|\\big|^2\\rightarrow\\min_\\alpha\n",
    "$$\n",
    "\n",
    "будем рассматривать\n",
    "\n",
    "$$\n",
    "Q(a, X^l)= \\big|\\big|X\\alpha -y\\big|\\big|^2 + \\lambda\\big|\\big|\\alpha\\big|\\big|^2\\rightarrow\\min_\\alpha\n",
    "$$"
   ]
  },
  {
   "cell_type": "markdown",
   "metadata": {
    "slideshow": {
     "slide_type": "fragment"
    }
   },
   "source": [
    "Тогда вместо\n",
    "\n",
    "$$\n",
    "\\big|\\big|\\alpha^*\\big|\\big|^2 = \\big|\\big|S^{-1}V^Ty\\big|\\big|^2 =\\sum_{j=1}^n\\frac{1}{\\lambda_j}(v_j^Ty)^2\n",
    "$$\n",
    "\n",
    "получим\n",
    "\n",
    "$$\n",
    "\\big|\\big|\\alpha^*\\big|\\big|^2 = \\big|\\big|(S^2+\\tau I_n)^{-1}SV^Ty\\big|\\big|^2 =\\sum_{j=1}^n\\frac{\\lambda_j}{(\\lambda_j+\\tau)^2}(v_j^Ty)^2\n",
    "$$"
   ]
  },
  {
   "cell_type": "markdown",
   "metadata": {
    "slideshow": {
     "slide_type": "slide"
    }
   },
   "source": [
    "#### Виды регуляризации\n",
    "\n",
    "* [Ridge](http://scikit-learn.org/stable/modules/generated/sklearn.linear_model.Ridge.html)\n",
    "$$\n",
    "Q(a, X^l)= \\big|\\big|X\\alpha -y\\big|\\big|^2 + \\lambda\\big|\\big|\\alpha\\big|\\big|_2^2\\rightarrow\\min_\\alpha\n",
    "$$\n",
    "\n",
    "* [Lasso](http://scikit-learn.org/stable/modules/generated/sklearn.linear_model.Lasso.html)\n",
    "$$\n",
    "Q(a, X^l)= \\big|\\big|X\\alpha -y\\big|\\big|^2 + \\lambda\\big|\\big|\\alpha\\big|\\big|_1\\rightarrow\\min_\\alpha\n",
    "$$\n",
    "\n",
    "* [ElasticNet](http://scikit-learn.org/stable/modules/generated/sklearn.linear_model.ElasticNet.html)\n",
    "$$\n",
    "Q(a, X^l)= \\big|\\big|X\\alpha -y\\big|\\big|^2 + \\lambda\\big(\\beta\\big|\\big|\\alpha\\big|\\big|_2^2 + (1-\\beta) \\big|\\big|\\alpha\\big|\\big|_1\\big)\\rightarrow\\min_\\alpha, \\beta\\in[0, 1]\n",
    "$$"
   ]
  },
  {
   "cell_type": "markdown",
   "metadata": {
    "slideshow": {
     "slide_type": "subslide"
    }
   },
   "source": [
    "**Ridge**\n",
    "\n",
    "<img src=\"ridge.png\" style=\"width: 365px;\"/>"
   ]
  },
  {
   "cell_type": "markdown",
   "metadata": {
    "slideshow": {
     "slide_type": "fragment"
    }
   },
   "source": [
    "**Lasso**\n",
    "\n",
    "<img src=\"lasso.png\" style=\"width: 365px;\"/>"
   ]
  },
  {
   "cell_type": "markdown",
   "metadata": {
    "slideshow": {
     "slide_type": "subslide"
    }
   },
   "source": [
    "**Ridge**\n",
    "\n",
    "Вместо \n",
    "\n",
    "$$\n",
    "Q(a, X^l)= \\big|\\big|X\\alpha -y\\big|\\big|^2 + \\lambda\\big|\\big|\\alpha\\big|\\big|_2^2\\rightarrow\\min_\\alpha\n",
    "$$\n",
    "\n",
    "можно рассматривать\n",
    "\n",
    "$$\n",
    "\\begin{cases}\n",
    "Q(a, X^l)= \\big|\\big|X\\alpha -y\\big|\\big|^2 \\rightarrow \\min_\\alpha \\\\\n",
    "\\big|\\big|\\alpha\\big|\\big|_2^2 \\lt \\eta\n",
    "\\end{cases}\n",
    "$$\n",
    "\n",
    "**Lasso**\n",
    "\n",
    "Вместо \n",
    "\n",
    "$$\n",
    "Q(a, X^l)= \\big|\\big|X\\alpha -y\\big|\\big|^2 + \\lambda\\big|\\big|\\alpha\\big|\\big|_1\\rightarrow\\min_\\alpha\n",
    "$$\n",
    "\n",
    "можно рассматривать\n",
    "\n",
    "$$\n",
    "\\begin{cases}\n",
    "Q(a, X^l)= \\big|\\big|X\\alpha -y\\big|\\big|^2 \\rightarrow \\min_\\alpha \\\\\n",
    "\\big|\\big|\\alpha\\big|\\big|_1 \\lt \\eta\n",
    "\\end{cases}\n",
    "$$"
   ]
  },
  {
   "cell_type": "markdown",
   "metadata": {
    "slideshow": {
     "slide_type": "subslide"
    }
   },
   "source": [
    "<img src=\"levels.gif\" style=\"width: 500px;\"/>"
   ]
  },
  {
   "cell_type": "markdown",
   "metadata": {
    "slideshow": {
     "slide_type": "subslide"
    }
   },
   "source": [
    "<img src=\"reg.png\" style=\"width: 500px;\"/>"
   ]
  },
  {
   "cell_type": "markdown",
   "metadata": {
    "slideshow": {
     "slide_type": "slide"
    }
   },
   "source": [
    "## Оценка качества работы регрессионной модели"
   ]
  },
  {
   "cell_type": "markdown",
   "metadata": {
    "collapsed": true,
    "slideshow": {
     "slide_type": "fragment"
    }
   },
   "source": [
    "#### Линейная зависимость\n",
    "\n",
    "<img src=\"quality.png\" style=\"width: 500px;\"/>"
   ]
  },
  {
   "cell_type": "markdown",
   "metadata": {
    "slideshow": {
     "slide_type": "subslide"
    }
   },
   "source": [
    "<img src=\"var.png\" style=\"width: 500px;\"/>\n",
    "\n",
    "$\\bar{y}$ - среднее значение, $\\hat{y}_i$ - моделируемое значение, $y_i$ - наблюдаемое значение."
   ]
  },
  {
   "cell_type": "markdown",
   "metadata": {
    "slideshow": {
     "slide_type": "fragment"
    }
   },
   "source": [
    "#### Объясненная и необъясненная дисперсия\n",
    "\n",
    "**SST** = *total sum of squares*<br>\n",
    "\tсумма квадратов отклонений наблюдений от \n",
    "\tсреднего значения наблюдений\n",
    "    \n",
    "**SSE** = *error sum of squares*<br>\n",
    "\tсумма квадратов отклонений наблюдений от\n",
    "\tмоделируемых значений \n",
    "    \n",
    "**SSR** = *regression sum of squares*<br>\n",
    "\tсумма квадратов отклонений моделируемых значений от\n",
    "    среднего значения наблюдений"
   ]
  },
  {
   "cell_type": "markdown",
   "metadata": {
    "slideshow": {
     "slide_type": "fragment"
    }
   },
   "source": [
    "Коэффициент определенности (R-squared)\n",
    "\n",
    "$$\n",
    "R^2 = \\frac{SSR}{SST}\n",
    "$$"
   ]
  },
  {
   "cell_type": "markdown",
   "metadata": {
    "slideshow": {
     "slide_type": "subslide"
    }
   },
   "source": [
    "<img src=\"r_squared.png\" style=\"width: 500px;\"/>"
   ]
  },
  {
   "cell_type": "markdown",
   "metadata": {
    "slideshow": {
     "slide_type": "slide"
    }
   },
   "source": [
    "## Полиномиальная регрессия"
   ]
  },
  {
   "cell_type": "markdown",
   "metadata": {
    "slideshow": {
     "slide_type": "fragment"
    }
   },
   "source": [
    "**Пример**\n",
    "\n",
    "<img src=\"poly.png\" style=\"width: 700px;\"/>"
   ]
  },
  {
   "cell_type": "markdown",
   "metadata": {
    "slideshow": {
     "slide_type": "fragment"
    }
   },
   "source": [
    "В качестве признаков можно иcпользовать $f_i^2(x_k),\\ f_i^3(x_k),\\ f_i(x_k)f_j(x_k),\\ \\ldots$ - произведения степеней признаков."
   ]
  },
  {
   "cell_type": "markdown",
   "metadata": {
    "slideshow": {
     "slide_type": "fragment"
    }
   },
   "source": [
    "[Реализация](http://scikit-learn.org/stable/modules/generated/sklearn.preprocessing.PolynomialFeatures.html#sklearn.preprocessing.PolynomialFeatures)"
   ]
  },
  {
   "cell_type": "markdown",
   "metadata": {
    "slideshow": {
     "slide_type": "fragment"
    }
   },
   "source": [
    "Можно добавлять и другие признаки: sin, cos, exp, log, ..."
   ]
  },
  {
   "cell_type": "markdown",
   "metadata": {
    "slideshow": {
     "slide_type": "subslide"
    }
   },
   "source": [
    "**Полиномиальная регрессия степени 2**\n",
    "\n",
    "<img src=\"deg2.png\" style=\"width: 200px;\"/>"
   ]
  },
  {
   "cell_type": "markdown",
   "metadata": {
    "slideshow": {
     "slide_type": "subslide"
    }
   },
   "source": [
    "**Полиномиальная регрессия степени 5**\n",
    "\n",
    "<img src=\"deg5.png\" style=\"width: 200px;\"/>"
   ]
  },
  {
   "cell_type": "markdown",
   "metadata": {
    "slideshow": {
     "slide_type": "subslide"
    }
   },
   "source": [
    "**Полиномиальная регрессия степени 5**\n",
    "\n",
    "<img src=\"deg5_overfit.png\" style=\"width: 200px;\"/>\n",
    "\n",
    "Переобучение!"
   ]
  },
  {
   "cell_type": "markdown",
   "metadata": {
    "slideshow": {
     "slide_type": "subslide"
    }
   },
   "source": [
    "**Полиномиальная регрессия степени 5 с регуляризацией**\n",
    "\n",
    "<img src=\"deg5_reg.png\" style=\"width: 200px;\"/>"
   ]
  },
  {
   "cell_type": "markdown",
   "metadata": {
    "slideshow": {
     "slide_type": "slide"
    }
   },
   "source": [
    "## Прочие алгоритмы регрессии"
   ]
  },
  {
   "cell_type": "markdown",
   "metadata": {
    "slideshow": {
     "slide_type": "subslide"
    }
   },
   "source": [
    "[SVM](http://scikit-learn.org/stable/modules/generated/sklearn.svm.SVR.html)\n",
    "\n",
    "<img src=\"svm.png\" style=\"width: 400px;\"/>\n",
    "\n",
    "Штрафуем за выход из \"трубки\".\n",
    "\n",
    "$$\n",
    "h_\\varepsilon(x)=\n",
    "\\begin{cases}\n",
    "0, &\\text{if}\\ |x|<\\varepsilon  \\\\\n",
    "|x|, &\\text{else}\n",
    "\\end{cases}\n",
    "$$\n",
    "\n",
    "$$\n",
    "C\\sum_{i=1}^lh_\\varepsilon(\\xi_- + \\xi_+)+\\frac{1}{2}||w||^2 \\rightarrow \\min_{w,w_0},\n",
    "$$\n",
    "\n",
    "где $\\xi_-$ - отступ ниже линии, $\\xi_+$ - отступ выше линии."
   ]
  },
  {
   "cell_type": "markdown",
   "metadata": {
    "slideshow": {
     "slide_type": "subslide"
    }
   },
   "source": [
    "[kNN](http://scikit-learn.org/stable/modules/generated/sklearn.neighbors.KNeighborsRegressor.html)"
   ]
  },
  {
   "cell_type": "markdown",
   "metadata": {
    "slideshow": {
     "slide_type": "fragment"
    }
   },
   "source": [
    "Берем среднее значение по соседям."
   ]
  },
  {
   "cell_type": "markdown",
   "metadata": {
    "slideshow": {
     "slide_type": "subslide"
    }
   },
   "source": [
    "[Decision Tree](http://scikit-learn.org/stable/modules/generated/sklearn.tree.DecisionTreeRegressor.html)"
   ]
  },
  {
   "cell_type": "markdown",
   "metadata": {
    "slideshow": {
     "slide_type": "fragment"
    }
   },
   "source": [
    "Берем среднее значение по элементам обучающей выборки, попавшей в лист."
   ]
  },
  {
   "cell_type": "markdown",
   "metadata": {
    "slideshow": {
     "slide_type": "subslide"
    }
   },
   "source": [
    "[Random Forest](http://scikit-learn.org/stable/modules/generated/sklearn.ensemble.RandomForestRegressor.html)"
   ]
  },
  {
   "cell_type": "markdown",
   "metadata": {
    "slideshow": {
     "slide_type": "fragment"
    }
   },
   "source": [
    "Берем среднее значение по предсказаниям каждого дерева."
   ]
  }
 ],
 "metadata": {
  "celltoolbar": "Slideshow",
  "kernelspec": {
   "display_name": "Python 3",
   "language": "python",
   "name": "python3"
  },
  "language_info": {
   "codemirror_mode": {
    "name": "ipython",
    "version": 3
   },
   "file_extension": ".py",
   "mimetype": "text/x-python",
   "name": "python",
   "nbconvert_exporter": "python",
   "pygments_lexer": "ipython3",
   "version": "3.6.3"
  }
 },
 "nbformat": 4,
 "nbformat_minor": 2
}
