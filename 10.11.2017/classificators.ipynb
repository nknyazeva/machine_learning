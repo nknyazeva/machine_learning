{
 "cells": [
  {
   "cell_type": "markdown",
   "metadata": {},
   "source": [
    "![title](main.png)"
   ]
  },
  {
   "cell_type": "markdown",
   "metadata": {},
   "source": [
    "------------------------------------"
   ]
  },
  {
   "cell_type": "markdown",
   "metadata": {},
   "source": [
    "## Метрические классификаторы"
   ]
  },
  {
   "cell_type": "markdown",
   "metadata": {},
   "source": [
    "### Расстояние между объектами"
   ]
  },
  {
   "cell_type": "markdown",
   "metadata": {},
   "source": [
    "$$\n",
    "p(x_1, x_2) = \\big(\\sum_{i=1}^nw_i\\big|f_i(x_1)-f_i(x_2)\\big|^p\\big)^{\\frac{1}{p}}\n",
    "$$"
   ]
  },
  {
   "cell_type": "markdown",
   "metadata": {},
   "source": [
    "![title](distance.png)"
   ]
  },
  {
   "cell_type": "markdown",
   "metadata": {},
   "source": [
    "![title](graph.png)"
   ]
  },
  {
   "cell_type": "markdown",
   "metadata": {},
   "source": [
    "![title](lev_dist.png)"
   ]
  },
  {
   "cell_type": "markdown",
   "metadata": {},
   "source": [
    "-----------------------------------------"
   ]
  },
  {
   "cell_type": "markdown",
   "metadata": {},
   "source": [
    "### Метод ближайших соседей"
   ]
  },
  {
   "cell_type": "markdown",
   "metadata": {},
   "source": [
    "Пусть $\\hat{X} = \\hat{x}_1, \\ldots, \\hat{x}_n$ - объекты обучающей выборки, упорядоченные по близости к объекту $x$.\n",
    "$$\n",
    "a(x, X)=\\arg\\max_{y\\in Y}\\sum_{i=1}^\\hat{X}[\\hat{y}_i=y]w(i)\n",
    "$$"
   ]
  },
  {
   "cell_type": "markdown",
   "metadata": {},
   "source": [
    "Задача ближайшего соседа\n",
    "$$\n",
    "w(i) = [i\\leq 1]\n",
    "$$\n",
    "\n",
    "\n",
    "\n",
    "Задача $k$ ближайших соседей\n",
    "$$\n",
    "w(i) = [i\\leq k]\n",
    "$$"
   ]
  },
  {
   "cell_type": "markdown",
   "metadata": {},
   "source": [
    "![title](knn.png)"
   ]
  },
  {
   "cell_type": "markdown",
   "metadata": {},
   "source": [
    "-------------------------------------------"
   ]
  },
  {
   "cell_type": "markdown",
   "metadata": {},
   "source": [
    "## Логические классификаторы"
   ]
  },
  {
   "cell_type": "markdown",
   "metadata": {},
   "source": [
    "![title](logic1.png)\n",
    "\n",
    "------------------\n",
    "\n",
    "![title](logic2.png)\n",
    "\n",
    "------------------\n",
    "\n",
    "![title](logic3.png)\n",
    "\n",
    "------------------\n",
    "\n",
    "![title](logic4.png)\n",
    "\n",
    "------------------"
   ]
  },
  {
   "cell_type": "markdown",
   "metadata": {},
   "source": [
    "![title](tree_intro.png)\n",
    "\n",
    "-----------------------------------\n",
    "\n",
    "![title](index.png)\n",
    "\n",
    "-----------------------------------\n",
    "\n",
    "![title](feature_selection.png)\n",
    "\n",
    "-----------------------------------\n",
    "\n",
    "![title](random_forest.png)"
   ]
  }
 ],
 "metadata": {
  "kernelspec": {
   "display_name": "Python 3",
   "language": "python",
   "name": "python3"
  },
  "language_info": {
   "codemirror_mode": {
    "name": "ipython",
    "version": 3
   },
   "file_extension": ".py",
   "mimetype": "text/x-python",
   "name": "python",
   "nbconvert_exporter": "python",
   "pygments_lexer": "ipython3",
   "version": "3.6.1"
  }
 },
 "nbformat": 4,
 "nbformat_minor": 1
}
