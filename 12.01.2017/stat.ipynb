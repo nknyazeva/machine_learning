{
 "cells": [
  {
   "cell_type": "markdown",
   "metadata": {
    "slideshow": {
     "slide_type": "slide"
    }
   },
   "source": [
    "# Математическая статистика"
   ]
  },
  {
   "cell_type": "markdown",
   "metadata": {
    "slideshow": {
     "slide_type": "fragment"
    }
   },
   "source": [
    "Пусть задана выборка из реализация одинаково распределенных случайных величин: $X_1, \\ldots, X_n \\sim F$.\n",
    "\n",
    "Необходимо сделать выводы о распределении $F$."
   ]
  },
  {
   "cell_type": "markdown",
   "metadata": {
    "slideshow": {
     "slide_type": "fragment"
    }
   },
   "source": [
    "**Статистическая модель** $\\mathcal{F}$ - множество распределений."
   ]
  },
  {
   "cell_type": "markdown",
   "metadata": {
    "slideshow": {
     "slide_type": "fragment"
    }
   },
   "source": [
    "**Параметрическая модель: **\n",
    "\n",
    "$$\n",
    "\\mathcal{F} = \\big\\{f(x, \\theta), \\theta\\in\\Theta\\subseteq\\mathbb{R}^p\\big\\}\n",
    "$$\n",
    "\n",
    "**Непраметрическое модель** - множество $\\mathcal{F}$, которое нельзя параметризовать конечным числом параметров."
   ]
  },
  {
   "cell_type": "markdown",
   "metadata": {
    "slideshow": {
     "slide_type": "subslide"
    }
   },
   "source": [
    "_Примеры_:\n",
    "\n",
    "1) $X_1, \\ldots, X_n$ &mdash; i.i.d., имеющие нормальное распределение с параметрами $\\mu$ и $\\sigma$; необходимо оценить $P(X\\gt1)$.<br>\n",
    "2) $X_1, \\ldots, X_n$ &mdash; i.i.d., имеющие распределение $F$; необходимо оценить $\\mathbb{E}X$.<br>\n",
    "3) $(X_1, Y_1), \\ldots, (X_n, Y_n)$; необходимо восстановить $r(x) = \\mathbb{E}(Y\\big|X=x)$.<br>"
   ]
  },
  {
   "cell_type": "markdown",
   "metadata": {
    "slideshow": {
     "slide_type": "subslide"
    }
   },
   "source": [
    "**Точечная оценка** - оценка неизвестной величины (например, параметра в параметрической модели) в некотором наилучшем смысле.\n",
    "\n",
    "$\\hat{\\theta}$ &mdash; оценка параметра."
   ]
  },
  {
   "cell_type": "markdown",
   "metadata": {
    "slideshow": {
     "slide_type": "fragment"
    }
   },
   "source": [
    "$\\hat{\\theta}_n = g(X_1, \\ldots, X_n)$\n",
    "\n",
    "$bias(\\hat{\\theta}_n) = \\mathbb{E}_\\theta(\\hat{\\theta}_n)-\\theta$ - смещение оценки."
   ]
  },
  {
   "cell_type": "markdown",
   "metadata": {
    "slideshow": {
     "slide_type": "slide"
    }
   },
   "source": [
    "**Несмещенная оценка**:\n",
    "$$\n",
    "\\mathbb{E}_\\theta\\hat{\\theta}_n=\\theta\n",
    "$$\n",
    "\n",
    "**Состоятельная оценка**:\n",
    "$$\n",
    "P\\Big(\\big|\\hat{\\theta}_n-\\theta\\big|\\gt\\varepsilon\\Big) \\rightarrow 0, (n\\rightarrow\\infty)\n",
    "$$"
   ]
  },
  {
   "cell_type": "markdown",
   "metadata": {
    "slideshow": {
     "slide_type": "subslide"
    }
   },
   "source": [
    "_Пример:_ \n",
    "$X_1, \\ldots, X_n$ &mdash; i.i.d., имеющие нормальное распределение с параметрами $\\mu$ и $\\sigma$; необходимо оценить $\\mu=\\mathbb{E}X$.<br>\n",
    "\n",
    "1) $\\hat{\\mu} = g(X_1, \\ldots, X_n) = \\frac{1}{n}(X_1 + \\ldots + X_n)$ - несмещенная, состоятельная;<br>\n",
    "\n",
    "2) $\\hat{\\mu} = g(X_1, \\ldots, X_n) = \\frac{1}{n+1}(X_1 + \\ldots + X_n)$ - смещенная, состоятельная;<br>\n",
    "\n",
    "3) $\\hat{\\mu} = g(X_1, \\ldots, X_n) = X_1$ - несмещенная, несостоятельная;<br>\n",
    "\n",
    "4) $\\hat{\\mu} = g(X_1, \\ldots, X_n) = \\frac{n+1}{n}X_1$ - смещенная, несостоятельная."
   ]
  },
  {
   "cell_type": "markdown",
   "metadata": {
    "slideshow": {
     "slide_type": "subslide"
    }
   },
   "source": [
    "$se(\\theta_n) = \\sqrt{\\mathbb{V}(\\hat{\\theta}_n)}$ &mdash; стандартное отклонение оценки.\n",
    "\n",
    "$\\hat{se}$ &mdash; оценка стандартного отклонения."
   ]
  },
  {
   "cell_type": "markdown",
   "metadata": {
    "slideshow": {
     "slide_type": "subslide"
    }
   },
   "source": [
    "_Пример:_\n",
    "\n",
    "Пусть $X_1, \\ldots, X_n$ &mdash; i.i.d. из распределения Бернулли. Тогда \n",
    "$$\n",
    "\\hat{p}_n = \\frac{1}{n}\\sum_i X_i,\n",
    "$$ \n",
    "$$\n",
    "\\mathbb{E}(\\hat{p}_n)=\\sum_i\\mathbb{E}(X_i)\\big/n=p,\n",
    "$$\n",
    "$$\n",
    "\\mathbb{V}(\\hat{p}_n)=p(1-p)\\big/n,\n",
    "$$\n",
    "$$\n",
    "se = \\sqrt{\\mathbb{V}(\\hat{p}_n)}=\\sqrt{p(1-p)\\big/n},\n",
    "$$\n",
    "$$\n",
    "\\hat{se} = \\sqrt{\\hat{p}(1-\\hat{p})\\big/n}.\n",
    "$$"
   ]
  },
  {
   "cell_type": "markdown",
   "metadata": {
    "slideshow": {
     "slide_type": "slide"
    }
   },
   "source": [
    "**Асимптотически нормальная оценка:**\n",
    "\n",
    "$$\n",
    "\\sqrt{n}\\frac{\\hat\\theta_n-\\theta}{se}\\rightarrow\\mathcal{N}(0, 1)\n",
    "$$\n",
    "\n",
    "Доверительный интервал:\n",
    "$$\n",
    "(\\hat\\theta-z_{\\alpha/2}\\hat{se}, \\hat\\theta_n+z_{\\alpha/2}\\hat{se})\n",
    "$$"
   ]
  },
  {
   "cell_type": "markdown",
   "metadata": {
    "slideshow": {
     "slide_type": "subslide"
    }
   },
   "source": [
    "$$\n",
    "MSE = \\mathbb{E}_\\theta(\\hat{\\theta}_n-\\theta)^2\n",
    "$$\n",
    "\n",
    "**bias-variance decomposition**\n",
    "\n",
    "$$\n",
    "MSE = bias^2(\\hat\\theta_n) + \\mathbb{V}_\\theta(\\hat\\theta_n),\n",
    "$$\n",
    "\n",
    "где $bias(\\hat{\\theta}_n) = \\mathbb{E}_\\theta(\\hat{\\theta}_n)-\\theta$."
   ]
  },
  {
   "cell_type": "markdown",
   "metadata": {
    "slideshow": {
     "slide_type": "subslide"
    }
   },
   "source": [
    "_Задача_\n",
    "\n",
    "Пусть $X_1, \\ldots, X_n \\sim \\textrm{Uniform}(0, \\theta)$, $\\hat{\\theta}_n = \\max\\{X_1, \\ldots, X_n\\}$. Найдите значений $\\textrm{bias}$, $\\textrm{se}$ и $\\textrm{MSE}$ этой оценки."
   ]
  },
  {
   "cell_type": "markdown",
   "metadata": {
    "slideshow": {
     "slide_type": "slide"
    }
   },
   "source": [
    "## Способы оценивания параметров"
   ]
  },
  {
   "cell_type": "markdown",
   "metadata": {
    "slideshow": {
     "slide_type": "slide"
    }
   },
   "source": [
    "### Метод максимального правдоподобия\n",
    "\n",
    "**Функция правдоподобия:**\n",
    "\n",
    "$$\n",
    "\\mathcal{L}_n(\\theta) = \\prod_{i=1}^n f(X_i; \\theta)\n",
    "$$\n",
    "\n",
    "Ищем такое значение $\\hat\\theta_n$, которое максимизирует $\\mathcal{L}_n(\\theta)$."
   ]
  },
  {
   "cell_type": "markdown",
   "metadata": {
    "slideshow": {
     "slide_type": "subslide"
    }
   },
   "source": [
    "_Пример._\n",
    "\n",
    "$X_1, \\ldots, X_n \\sim Bernoulli(p)$, тогда\n",
    "\n",
    "$$\n",
    "\\mathcal{L}_n(p)=\\prod_{i=1}^nf(X_i; p)=\\prod_{i=1}^np^{X_i}(1-p)^{1-X_i}=p^S(1-p)^{n-S},\n",
    "$$\n",
    "где $S=\\sum_i X_i$.\n",
    "\n",
    "$$\n",
    "\\log\\mathcal{L}_n(p) = l_n(p) = S\\log p + (n-S)\\log(1-p),\n",
    "$$\n",
    "\n",
    "откуда $\\hat{p}_n=S\\big/n$."
   ]
  },
  {
   "cell_type": "markdown",
   "metadata": {
    "slideshow": {
     "slide_type": "subslide"
    }
   },
   "source": [
    "Свойства:\n",
    "\n",
    "* состоятельность;\n",
    "* не зависит от параметризации (если $\\hat{\\theta}_n$ - ОМП для $\\theta$, то $g(\\hat\\theta_n)$ - ОМП для $g(\\theta)$);\n",
    "* асимптотически нормальна."
   ]
  },
  {
   "cell_type": "markdown",
   "metadata": {
    "collapsed": true,
    "slideshow": {
     "slide_type": "subslide"
    }
   },
   "source": [
    "_Задача_\n",
    "\n",
    "Пусть имеется выборка размера $n$. Первый классификатор дал правильный ответ на $X_1$ объектах, второй классификатор дал правильный ответ на $X_2$ объектах. Предположим, что эти величины имеют биномиальное распределение. Положим $\\psi=p_1-p_2$. Найдите ОМП $\\hat{\\psi}$."
   ]
  },
  {
   "cell_type": "markdown",
   "metadata": {
    "slideshow": {
     "slide_type": "slide"
    }
   },
   "source": [
    "### Метод моментов\n",
    "\n",
    "Пусть $\\theta = (\\theta_1, \\ldots, \\theta_k)$ &mdash; параметры. Для $1\\le j\\le k$ определим $j$-й момент по формуле:\n",
    "\n",
    "$$\n",
    "\\alpha_j=\\mathbb{E}_\\theta(X^j)\n",
    "$$\n",
    "\n",
    "и $j$-й выборочный момент по формуле:\n",
    "\n",
    "$$\n",
    "\\hat\\alpha_j=\\frac{1}{n}\\sum_{i=1}^n X_i^j\n",
    "$$"
   ]
  },
  {
   "cell_type": "markdown",
   "metadata": {
    "slideshow": {
     "slide_type": "fragment"
    }
   },
   "source": [
    "Пусть выполнено $\\theta_i=\\phi_i(\\alpha_1, \\ldots, \\alpha_n)$. Тогда можно получить оценки параметров, как $\\hat\\theta_i=\\phi_i(\\hat\\alpha_1, \\ldots, \\hat\\alpha_n)$"
   ]
  },
  {
   "cell_type": "markdown",
   "metadata": {
    "slideshow": {
     "slide_type": "subslide"
    }
   },
   "source": [
    "_Пример._\n",
    "\n",
    "$X_1, \\ldots, X_n \\sim Bernoulli(p)$, тогда\n",
    "\n",
    "* $\\alpha_1=\\mathbb{E}_\\theta(X)=p$,\n",
    "* $\\hat\\alpha_1=n^{-1}\\sum_{i=1}^nX_i$,\n",
    "* откуда $\\hat p_n=\\frac{1}{n}\\sum_{i=1}^nX_i$."
   ]
  },
  {
   "cell_type": "markdown",
   "metadata": {
    "slideshow": {
     "slide_type": "subslide"
    }
   },
   "source": [
    "Свойства:\n",
    "\n",
    "* оценка состоятельна;\n",
    "* оценка асимтотически нормальна."
   ]
  },
  {
   "cell_type": "markdown",
   "metadata": {
    "slideshow": {
     "slide_type": "subslide"
    }
   },
   "source": [
    "_Задача_. С помощью метода моментов оценить параметры равномерного распределения."
   ]
  },
  {
   "cell_type": "markdown",
   "metadata": {
    "slideshow": {
     "slide_type": "slide"
    }
   },
   "source": [
    "## Тестирование гипотез"
   ]
  },
  {
   "cell_type": "markdown",
   "metadata": {
    "slideshow": {
     "slide_type": "fragment"
    }
   },
   "source": [
    "* Делается предположение о процессе, генерирующем данные. Задача состоит в том, чтобы определить, содержат ли данные достаточно информации, чтобы отвергнуть это предположение.\n",
    "\n",
    "* Если информации не достаточно, то считается, что опытные данные предположению (гипотезе) не противоречат."
   ]
  },
  {
   "cell_type": "markdown",
   "metadata": {
    "slideshow": {
     "slide_type": "fragment"
    }
   },
   "source": [
    "$H_0$ - нулевая гипотеза, $H_1$ - альтернативная гипотеза. \n",
    "\n",
    "Идея:\n",
    "\n",
    "Рассмотрим подмножество $R\\subset \\mathcal{X}$, где $\\mathcal{X}$ - пространство объектов, и назовем его критической областью. \n",
    "\n",
    "* $(X_1, \\ldots, X_n)\\in R$, то $H_0$ отклоняется в пользу альтернативы;\n",
    "\n",
    "* $(X_1, \\ldots, X_n)\\notin R$, то $H_0$ экспериментальным данным не противоречит.\n",
    "\n",
    "\n",
    "$R=\\big\\{x: T(x)\\gt c\\big\\}$. "
   ]
  },
  {
   "cell_type": "markdown",
   "metadata": {
    "slideshow": {
     "slide_type": "slide"
    }
   },
   "source": [
    "**Тест Вальда**\n",
    "\n",
    "$H_0: \\theta=\\theta_0$ vs $H_1: \\theta\\neq\\theta_0$.\n",
    "\n",
    "Если оценка асимптотически нормальна, то\n",
    "$$\n",
    "W=\\sqrt{n}\\frac{\\hat\\theta_n-\\theta_0}{\\widehat{se}}\\rightsquigarrow N(0, 1)\n",
    "$$\n",
    "\n",
    "Тест Вальда размера $\\alpha$: гипотеза $H_0$ отклоняется, если $|W|\\ge z_{\\alpha/2}$.\n",
    "\n",
    "![](z-alpha.png)"
   ]
  },
  {
   "cell_type": "markdown",
   "metadata": {
    "slideshow": {
     "slide_type": "subslide"
    }
   },
   "source": [
    "_Пример_.\n",
    "\n",
    "Сравнение двух классификаторов.\n",
    "\n",
    "Пусть $X$ - случайная величина, равная индикатору того, что первый классификатор дал правильный ответ. $Y$ - то же самое для второго.\n",
    "Тогда $X\\sim Bernoulli(p_1)$, $Y\\sim Bernoulli(p_2)$. Пусть $D_i=X_i-Y_i$.\n",
    "\n",
    "$\\delta=\\mathbb{E}D=\\mathbb{E}X-\\mathbb{E}Y = P(X=1) - P(Y=1)$.\n",
    "\n",
    "$$\n",
    "H_0: \\delta=0\\ \\ vs\\ \\ H_1: \\delta\\neq0\n",
    "$$\n",
    "\n",
    "Оценка ОМП: $\\hat\\delta = \\overline{D}$ - асимптотически нормальна.\n",
    "\n",
    "$\\widehat{se}(\\hat\\delta)=S\\big/\\sqrt{n}$, где $S^2=\\frac{1}{n}\\sum_{i=1}^n(D_i-\\overline{D})^2$\n",
    "\n",
    "$$\n",
    "W = \\sqrt{n}\\frac{\\hat{\\delta}-0}{\\widehat{se}}\n",
    "$$"
   ]
  }
 ],
 "metadata": {
  "kernelspec": {
   "display_name": "Python 3",
   "language": "python",
   "name": "python3"
  },
  "language_info": {
   "codemirror_mode": {
    "name": "ipython",
    "version": 3
   },
   "file_extension": ".py",
   "mimetype": "text/x-python",
   "name": "python",
   "nbconvert_exporter": "python",
   "pygments_lexer": "ipython3",
   "version": "3.6.3"
  }
 },
 "nbformat": 4,
 "nbformat_minor": 2
}
