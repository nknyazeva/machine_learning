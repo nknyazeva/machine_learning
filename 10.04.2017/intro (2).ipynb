{
 "cells": [
  {
   "cell_type": "markdown",
   "metadata": {},
   "source": [
    "# Постановка задачи машинного обучения."
   ]
  },
  {
   "cell_type": "markdown",
   "metadata": {},
   "source": [
    "## Задача обучения по прецедентам."
   ]
  },
  {
   "cell_type": "markdown",
   "metadata": {},
   "source": [
    "$X$ - пространство объектов;<br>\n",
    "$Y$ - пространство ответов;<br>\n",
    "$y: X \\rightarrow Y$ - неизвестная функция.\n",
    "\n",
    "**Дано:**  \n",
    "$\\{x_1, \\ldots, x_l\\}\\subset X$ - обучающая выборка (training sample);<br>\n",
    "$y_i=y(x_i), i=1,\\ldots,l$ - известные ответы.\n",
    "\n",
    "**Найти:**<br>\n",
    "$a: X \\rightarrow Y$ - алгоритм, приближающий $y$ на всем множестве $X$."
   ]
  },
  {
   "cell_type": "markdown",
   "metadata": {},
   "source": [
    "---------------------------------------------------------------"
   ]
  },
  {
   "cell_type": "markdown",
   "metadata": {},
   "source": [
    "Рассмотрим задачу подробнее:<br>\n",
    "1. как задаются объекты и какими могут быть ответы;<br>\n",
    "2. что значит $a$ приближает $y$;<br>\n",
    "3. как построить $a$."
   ]
  },
  {
   "cell_type": "markdown",
   "metadata": {},
   "source": [
    "---------------------------------------------------------------"
   ]
  },
  {
   "cell_type": "markdown",
   "metadata": {},
   "source": [
    "##  Как задаются объекты"
   ]
  },
  {
   "cell_type": "markdown",
   "metadata": {},
   "source": [
    "Как правило, каждый из объектов задается набором признаков (features):<br>\n",
    "$f_j: X\\rightarrow D_j, j=1,\\ldots,n$.\n",
    "\n",
    "Признаки могут быть разных типов:\n",
    "1. бинарные $D_j=\\{0,1\\}$;\n",
    "2. номинальные $|D_j| < \\infty$;\n",
    "3. порядковые $|D_j| < \\infty$, $D_j$ - упорядочено;\n",
    "4. количественные $D_j = \\mathcal{R}$."
   ]
  },
  {
   "cell_type": "markdown",
   "metadata": {},
   "source": [
    "Вектор $(f_1(x), \\ldots, f_n(x))$ - признаковое описание объекта $x$."
   ]
  },
  {
   "cell_type": "markdown",
   "metadata": {},
   "source": [
    "Матрица \"объекты-признаки\"  \\begin{pmatrix} f_1(x_1) & \\ldots & f_n(x_1) \\\\ \\ldots & \\ldots & \\ldots \\\\ f_1(x_l) & \\ldots & f_n(x_l) \\end{pmatrix}"
   ]
  },
  {
   "cell_type": "markdown",
   "metadata": {},
   "source": [
    "-------------------------------"
   ]
  },
  {
   "cell_type": "markdown",
   "metadata": {},
   "source": [
    "##  Как задаются ответы"
   ]
  },
  {
   "cell_type": "markdown",
   "metadata": {},
   "source": [
    "Задачи классификации (classification).\n",
    "* $Y=\\{-1, +1\\}$ - классификация на 2 класса (бинарная);\n",
    "* $Y=\\{1,\\ldots,M\\}$ - на $M$ непересекающихся классов;\n",
    "* $Y=\\{0,1\\}^M$ - на $M$ классов, которые могут пересекаться.\n",
    "\n",
    "Задачи восстановления регрессии (regression):\n",
    "* $Y=\\mathcal{R}$ или $Y=\\mathcal{R}^m$.\n",
    "\n",
    "Задачи ранжирования (ranking):\n",
    "* $Y$ - конечное упорядоченное множество."
   ]
  },
  {
   "cell_type": "markdown",
   "metadata": {},
   "source": [
    "-------------------------------"
   ]
  },
  {
   "cell_type": "markdown",
   "metadata": {},
   "source": [
    "![title](regr_clas.png)"
   ]
  },
  {
   "cell_type": "markdown",
   "metadata": {},
   "source": [
    "-------------------------------"
   ]
  },
  {
   "cell_type": "markdown",
   "metadata": {},
   "source": [
    "![title](iris.png)"
   ]
  },
  {
   "cell_type": "markdown",
   "metadata": {},
   "source": [
    "## Модель алгоритмов"
   ]
  },
  {
   "cell_type": "markdown",
   "metadata": {},
   "source": [
    "Модель (predictive model) - параметрическое семейство функций $A=\\{g(x,\\theta) | \\theta\\in\\Theta\\}$,\n",
    "где $g: X\\times\\Theta\\rightarrow Y$ - фиксированная функция.\n",
    "\n",
    "Важно, как задавать признаковое описание!"
   ]
  },
  {
   "cell_type": "markdown",
   "metadata": {},
   "source": [
    "![title](regr.png)"
   ]
  },
  {
   "cell_type": "markdown",
   "metadata": {},
   "source": [
    "## Метод обучения"
   ]
  },
  {
   "cell_type": "markdown",
   "metadata": {},
   "source": [
    "Метод обучения (learning algorithm) - это отображение вида $\\mu: (X\\times Y)\\rightarrow A$,\n",
    "которое произвольной выборке $X^l=(x_i, y_i)_{i=1}^l$ ставит в соответствии некоторый алгоритм $a\\in A$."
   ]
  },
  {
   "cell_type": "markdown",
   "metadata": {},
   "source": [
    "![title](threshold.png)"
   ]
  },
  {
   "cell_type": "markdown",
   "metadata": {},
   "source": [
    "Два этапа задачи обучения по прецедентам:\n",
    "* Этап обучения (training): метод $\\mu$ по выборке $X^l$ строит алгоритм $a=\\mu(X^l)$.\n",
    "\n",
    "$\\Bigg[\\begin{pmatrix} f_1(x_1) & \\ldots & f_n(x_1) \\\\ \\ldots & \\ldots & \\ldots \\\\ f_1(x_l) & \\ldots & f_n(x_l) \\end{pmatrix} \\rightarrow \\begin{pmatrix} y_1 \\\\ \\ldots \\\\ y_l \\end{pmatrix} \\Bigg]\\rightarrow a$\n",
    "* Этап применения (testing): алгоритм $a$ для новых объектов $x$ выдает ответы $a(x)$.\n",
    "\n",
    "$\\begin{pmatrix} f_1(x'_1) & \\ldots & f_n(x'_1) \\\\ \\ldots & \\ldots & \\ldots \\\\ f_1(x'_k) & \\ldots & f_n(x'_k) \\end{pmatrix} \\rightarrow \\begin{pmatrix} a(x'_1) \\\\ \\ldots \\\\ a(x'_k) \\end{pmatrix}$"
   ]
  },
  {
   "cell_type": "markdown",
   "metadata": {},
   "source": [
    "## Как измерить качество алгоритма?"
   ]
  },
  {
   "cell_type": "markdown",
   "metadata": {},
   "source": [
    "$L(a,x)$ - функция потерь (loss function) - величина ошибки алгоритма $a\\in A$ на объекте $x\\in X$.\n",
    "\n",
    "*Примеры:*\n",
    "\n",
    "Задачи классификации:\n",
    "* $L(a,x)=[a(x)\\neq y(x)]$\n",
    "\n",
    "Задачи регрессии:\n",
    "* $L(a,x)=|a(x)-y(x)|$\n",
    "* $L(a,x)=(a(x)-y(x))^2$\n",
    "\n",
    "Эмпирический риск: $Q(a, X^l)=\\frac{1}{l}\\sum_{i=1}^l L(a, x_i)$\n",
    "\n",
    "Логично предположить, что $\\mu(X^l)=\\arg\\min_{a\\in A}Q(a, X^l)$"
   ]
  },
  {
   "cell_type": "markdown",
   "metadata": {},
   "source": [
    "## Как найти подходящий алгоритм?"
   ]
  },
  {
   "cell_type": "markdown",
   "metadata": {},
   "source": [
    "Пусть наша модель работает следующим образом: $\\mu(X^l)=\\arg\\min_{a\\in A}Q(a, X^l)$\n",
    "\n",
    "Есть риск переобучения!"
   ]
  },
  {
   "cell_type": "markdown",
   "metadata": {},
   "source": [
    "![title](overfit.png)"
   ]
  },
  {
   "cell_type": "markdown",
   "metadata": {},
   "source": [
    "Переобучения нельзя избежать, но можно его минимизировать."
   ]
  },
  {
   "cell_type": "markdown",
   "metadata": {},
   "source": [
    "## Особенности данных\n",
    "* разнородность (признаки в измерены в разных шкалах);\n",
    "* неполнота (есть пропуски в данных);\n",
    "* неточность (погрешности);\n",
    "* противоречивость (разные ответы для одинаковых объектов);\n",
    "* избыточность (big data);\n",
    "* недостаточность (объектов мало, признаков много);\n",
    "* неструктурированность (нет признаковых описаний)"
   ]
  },
  {
   "cell_type": "markdown",
   "metadata": {},
   "source": [
    "## Примеры задач"
   ]
  },
  {
   "cell_type": "markdown",
   "metadata": {},
   "source": [
    "**Задача предсказания оттока клиентов**\n",
    "\n",
    "Объекты - абоненты, ответы - вероятность их ухода в следующем месяце.\n",
    "\n",
    "Особенности: очень много \"сырых\" признаков; нет ясности, какие вычислять признаки по исходным данным.\n",
    "\n",
    "**Задача распознавания надписей**\n",
    "\n",
    "Kaggle Digit Recognizer\n",
    "\n",
    "![title](digit_recog.gif)\n",
    "\n",
    "Особенности: очень много зашумленных данных, относительно большая размерность пространства признаков.\n",
    "\n",
    "**Задача прогнозирования стоимости недвижимости**\n",
    "\n",
    "Объекты - квартиры, ответы - их стоимости.\n",
    "\n",
    "Особенности: изменение стоимости со временем, разнотипность признаков.\n",
    "\n",
    "\n",
    "**Задача прогнозирования объемов продаж**\n",
    "\n",
    "Объект - тройка <товар, магазин, день>.\n",
    "\n",
    "![title](prod.png)\n",
    "\n",
    "Особенности задачи: нестандартная функция потерь, разреженные данные.\n",
    "\n",
    "**Задача прогнозирования прибыли ресторана**\n",
    "\n",
    "Kaggle Restaurant Revenue Prediction\n",
    "\n",
    "Объекты - место для открытия нового ресторана, ответ - прибыль через год.\n",
    "\n",
    "Особенности: мало объектов, много признаков; есть выбросы; разнотипные признаки.\n",
    "\n",
    "**Задача ранжирования поисковой выдачи**\n",
    "\n",
    "Объект - пара <запрос, документ>, ответ - релеватность.\n",
    "\n",
    "Особенности: проблема конструирования признаков по сырым данным; исходная разметка делается людьми; сверхбольшие выборки; оптимизируется не число ошибок, а качество ранжирования."
   ]
  },
  {
   "cell_type": "code",
   "execution_count": null,
   "metadata": {
    "collapsed": true
   },
   "outputs": [],
   "source": []
  }
 ],
 "metadata": {
  "kernelspec": {
   "display_name": "Python 3",
   "language": "python",
   "name": "python3"
  },
  "language_info": {
   "codemirror_mode": {
    "name": "ipython",
    "version": 3
   },
   "file_extension": ".py",
   "mimetype": "text/x-python",
   "name": "python",
   "nbconvert_exporter": "python",
   "pygments_lexer": "ipython3",
   "version": "3.6.1"
  }
 },
 "nbformat": 4,
 "nbformat_minor": 1
}
