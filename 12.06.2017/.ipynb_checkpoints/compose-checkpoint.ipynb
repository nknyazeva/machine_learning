{
 "cells": [
  {
   "cell_type": "markdown",
   "metadata": {
    "slideshow": {
     "slide_type": "slide"
    }
   },
   "source": [
    "# Композиция классификаторов"
   ]
  },
  {
   "cell_type": "markdown",
   "metadata": {
    "slideshow": {
     "slide_type": "slide"
    }
   },
   "source": [
    "$X$ - пространство объектов;<br>\n",
    "$Y$ - пространство ответов;<br>\n",
    "$y: X \\rightarrow Y$ - неизвестная функция.\n",
    "\n",
    "**Дано:**  \n",
    "$\\{x_1, \\ldots, x_l\\}\\subset X$ - обучающая выборка (training sample);<br>\n",
    "$y_i=y(x_i), i=1,\\ldots,l$ - известные ответы.\n",
    "\n",
    "**Найти:**<br>\n",
    "$a: X \\rightarrow Y$ - алгоритм, приближающий $y$ на всем множестве $X$."
   ]
  },
  {
   "cell_type": "markdown",
   "metadata": {
    "slideshow": {
     "slide_type": "subslide"
    }
   },
   "source": [
    "$a(x) = C(F(b_1(x), \\ldots, b_T(x)))$, где\n",
    "\n",
    "$b_i: X\\rightarrow R$, $i=1,\\ldots,T$ - базовые алгоритмы,\n",
    "\n",
    "$F: R^T\\rightarrow R$ - корректирующая операция,\n",
    "\n",
    "$C: R\\rightarrow Y$ - решающее правило,\n",
    "\n",
    "$R$ - пространство оценок."
   ]
  },
  {
   "cell_type": "markdown",
   "metadata": {
    "slideshow": {
     "slide_type": "subslide"
    }
   },
   "source": [
    "## Примеры пространств оценок и решающих правил\n",
    "\n",
    "_Пример 1_\n",
    "\n",
    "Классификация на 2 класса, $Y=\\{-1, +1\\}$.\n",
    "\n",
    "$$\n",
    "a(x) = sign(b(x)),\n",
    "$$\n",
    "\n",
    "где $R=\\mathbb{R}$, $b: X\\rightarrow\\mathbb{R}$, $C(b)=sign(b)$.\n",
    "\n",
    "_Пример 2_\n",
    "\n",
    "Классификация на M класса, $Y=\\{1,\\ldots, M\\}$.\n",
    "\n",
    "$$\n",
    "a(x) = \\arg\\max_{y\\in Y}(b_y(x)),\n",
    "$$\n",
    "\n",
    "где $R=\\mathbb{R}^M$, $b:X\\rightarrow\\mathbb{R}^M$, $C(b_1,\\ldots,b_M)=\\arg\\max_{y\\in Y}b_y$."
   ]
  },
  {
   "cell_type": "markdown",
   "metadata": {
    "slideshow": {
     "slide_type": "subslide"
    }
   },
   "source": [
    "## Примеры корректирующих операций\n",
    "\n",
    "_Пример 1._ Простое голосование.\n",
    "\n",
    "$$\n",
    "F(b_1(x), \\ldots, b_T(x)) = \\frac{1}{T}\\sum_{t=1}^Tb_t(x),\\ \\ \\ x\\in X\n",
    "$$\n",
    "\n",
    "_Пример 2._ Взвешенное голосование.\n",
    "\n",
    "$$\n",
    "F(b_1(x), \\ldots, b_T(x)) = \\sum_{t=1}^T\\alpha_tb_t(x),\\ \\ \\ x\\in X, \\ \\ \\ \\alpha_t\\in \\mathbb{R}\n",
    "$$\n",
    "\n",
    "_Пример 3._ Смесь алгоритмов.\n",
    "\n",
    "$$\n",
    "F(b_1(x), \\ldots, b_T(x)) = \\sum_{t=1}^Tg_t(x)b_t(x),\\ \\ \\ x\\in X, \\ \\ \\ g_t: X\\rightarrow\\mathbb{R}\n",
    "$$"
   ]
  },
  {
   "cell_type": "markdown",
   "metadata": {
    "slideshow": {
     "slide_type": "slide"
    }
   },
   "source": [
    "### Простое голосование\n",
    "\n",
    "**Идея:** натренируем много _разных_ алгоритмов.\n",
    "\n",
    "Чтобы они были разными, можно:\n",
    "* обучать их на разных подвыборках (bagging - bootstrap aggregation);\n",
    "* обучать их на разных подмножествах признаков (RSM - random subspace method)."
   ]
  },
  {
   "cell_type": "markdown",
   "metadata": {
    "slideshow": {
     "slide_type": "fragment"
    }
   },
   "source": [
    "_Пример_: Random forest"
   ]
  },
  {
   "cell_type": "markdown",
   "metadata": {
    "slideshow": {
     "slide_type": "slide"
    }
   },
   "source": [
    "### Взвешенное голосование\n",
    "\n",
    "Разберем задачу бинарной классификации.\n",
    "\n",
    "$$\n",
    "a(x) = sign\\big(\\sum_{t=1}^T\\alpha_tb_t(x)\\big),\\ \\ \\ x\\in X\n",
    "$$\n",
    "\n",
    "Возьмем в качестве функционала качества - число ошибок на $X^l$:\n",
    "\n",
    "$$\n",
    "Q_T = \\sum_{i=1}^\\ell\\Big[y_i\\sum_{t=1}^T\\alpha_t b_t(x_i)\\lt0\\Big]\n",
    "$$"
   ]
  },
  {
   "cell_type": "markdown",
   "metadata": {
    "slideshow": {
     "slide_type": "fragment"
    }
   },
   "source": [
    "Основные эвристики\n",
    "* фиксация $\\alpha_1 b_1(x),\\ldots, \\alpha_{t-1}b_{t-1}(x)$ при добавлении $\\alpha_t b_t(x)$;\n",
    "* гладкая аппроксимация пороговой функции потерь $[M\\le0]$."
   ]
  },
  {
   "cell_type": "markdown",
   "metadata": {
    "slideshow": {
     "slide_type": "subslide"
    }
   },
   "source": [
    "<img src=\"loss_func.png\" style=\"width: 500px;\"/>"
   ]
  },
  {
   "cell_type": "markdown",
   "metadata": {
    "slideshow": {
     "slide_type": "subslide"
    }
   },
   "source": [
    "Будем брать в качестве функции аппроксимации $e^{-M}$. Отметим, что $[M\\le0]\\le e^{-M}.$\n",
    "\n",
    "Тогда можно оценивать функционал качества следующим образом:\n",
    "\n",
    "$$\n",
    "\\sum_{i=1}^\\ell\\Big[y_i\\sum_{t=1}^T\\alpha_t b_t(x_i)\\lt0\\Big]=Q_T\\le\\tilde{Q}_T=\\sum_{i=1}^\\ell\\exp\\big(-y_i\\sum_{t=1}^T\\alpha_tb_t(x_i)\\big)=\\\\\n",
    "\\sum_{i=1}^\\ell\\exp\\big(-y_i\\sum_{t=1}^{T-1}\\alpha_tb_t(x_i)\\big)\\exp(-y_i\\alpha_Tb_T(x_i))\n",
    "$$\n",
    "\n",
    "Обозначим:\n",
    "\n",
    "$$\n",
    "w_i = \\exp\\big(-y_i\\sum_{t=1}^{T-1}\\alpha_tb_t(x_i)\\big)\n",
    "$$\n",
    "$$\n",
    "\\tilde{w}_i=w_i \\big/ \\sum_{j=1}^\\ell w_j\n",
    "$$\n",
    "\n",
    "$\\tilde{W}^\\ell=(\\tilde{w}_1, \\ldots, \\tilde{w}_\\ell)$"
   ]
  },
  {
   "cell_type": "markdown",
   "metadata": {
    "slideshow": {
     "slide_type": "subslide"
    }
   },
   "source": [
    "Пусть задан вектор весов $U^\\ell=(u_1, \\ldots, u_\\ell)$. Введем взвешенные числа ошибочных и правильных классификаций:\n",
    "\n",
    "$$\n",
    "N(b, U^\\ell) = \\sum_{i=1}^\\ell u_i[b(x_i)=-y_i]\n",
    "$$\n",
    "$$\n",
    "P(b, U^\\ell)=\\sum_{i=1}^\\ell u_i[b(x_i)=y_i]\n",
    "$$"
   ]
  },
  {
   "cell_type": "markdown",
   "metadata": {
    "slideshow": {
     "slide_type": "fragment"
    }
   },
   "source": [
    "**Теорема.** Пусть для любого нормированного вектора весов $U^\\ell$ существует алгоритм $b\\in B$, классифицирующий выборку хотя бы немного лучше, чем наугад: $N(b, U^\\ell)<\\frac{1}{2}$. Тогда минимум функционала $\\tilde{Q}_T$ достигается при \n",
    "\n",
    "$$\n",
    "b_T = \\arg\\min_{b\\in B}N(b, \\tilde{W}^\\ell)\n",
    "$$\n",
    "$$\n",
    "\\alpha_T=\\frac{1}{2}\\ln\\frac{1-N(b_T, \\tilde{W}^\\ell)}{N(b_T, \\tilde{W}^\\ell)}\n",
    "$$"
   ]
  },
  {
   "cell_type": "markdown",
   "metadata": {
    "slideshow": {
     "slide_type": "subslide"
    }
   },
   "source": [
    "#### Алгоритм AdaBoost\n",
    "\n",
    "Дано: обучающая выборка $X^\\ell$, параметр $T$.\n",
    "\n",
    "Инициализиция весов объектов: $w_i=\\frac{1}{\\ell}$, $i=1, \\ldots, \\ell$.\n",
    "\n",
    "Для всех $t=1, \\ldots, T$\n",
    "\n",
    "$ \\ \\ \\ \\ \\ \\ $обучить базовый алгоритм $b_t=\\arg\\min_b N(b, W^\\ell)$;\n",
    "\n",
    "$ \\ \\ \\ \\ \\ \\ \\alpha_t=\\frac{1}{2}\\ln\\frac{1-N(b_t, W^\\ell)}{N(b_t, W^\\ell)}$;\n",
    "\n",
    "$ \\ \\ \\ \\ \\ \\ $обновить веса объектов $w_i=w_i\\exp(-\\alpha_ty_ib_t(x_i))$, $i=1, \\ldots, \\ell$;\n",
    "\n",
    "$ \\ \\ \\ \\ \\ \\ $нормировать веса объектов $w_0=\\sum_{j=1}^\\ell w_j$, $w_i=w_i/w_0$, $i=1,\\ldots, \\ell$."
   ]
  },
  {
   "cell_type": "markdown",
   "metadata": {
    "slideshow": {
     "slide_type": "subslide"
    }
   },
   "source": [
    "#### Эвристики\n",
    "\n",
    "**Базовые классификаторы:**\n",
    "* эффективны простые классификаторы: решающие деревья, пороговые правила;\n",
    "* бустинг на сильных классификаторах, например, SVM не эффективен.\n",
    "\n",
    "**Отсев шума:** отбросить объекты с наибольшими $w_i$.\n",
    "\n",
    "**Переобучение:** наблюдается, но слабо."
   ]
  },
  {
   "cell_type": "markdown",
   "metadata": {
    "slideshow": {
     "slide_type": "subslide"
    }
   },
   "source": [
    "#### Сложности при использовании бустинга\n",
    "\n",
    "* Чрезмерная чувствительность к выбросам из-за $e^{-M}$;\n",
    "* Неинтерпретируемость;\n",
    "* Композиции из \"сильных\" алгоритмов получаются неудачными;\n",
    "* Требуются достаточно длинные обучающие выборки."
   ]
  },
  {
   "cell_type": "markdown",
   "metadata": {
    "slideshow": {
     "slide_type": "slide"
    }
   },
   "source": [
    "#### Gradient  Boosting\n",
    "\n",
    "$$\n",
    "a(x) = \\sum_{t=1}^T\\alpha_tb_t(x), \\ \\ \\ x\\in X, \\ \\ \\ \\alpha_t\\in\\mathbb{R}_+\n",
    "$$\n",
    "\n",
    "Функционал качества с произвольной функцией потерь $L(a, y)$:\n",
    "\n",
    "$$\n",
    "Q(\\alpha, b, X^\\ell)=\\sum_{i=1}^\\ell L\\Big(\\sum_{t=1}^{T-1}\\alpha_tb_t(x_i)+\\alpha b(x_i), y_i\\Big),\n",
    "$$\n",
    "\n",
    "Текущее приближение:\n",
    "\n",
    "$$\n",
    "f_{T-1, i} = \\sum_{t=1}^{T-1}\\alpha_tb_t(x_i)\n",
    "$$\n",
    "\n",
    "Следующее приближение:\n",
    "\n",
    "$$\n",
    "f_{T, i} = \\sum_{t=1}^{T-1}\\alpha_tb_t(x_i)+\\alpha b(x_i)\n",
    "$$"
   ]
  },
  {
   "cell_type": "markdown",
   "metadata": {
    "slideshow": {
     "slide_type": "subslide"
    }
   },
   "source": [
    "$g_i=L'(f_{T-1, i}, y_i)$ - компоненты вектора градиента, $\\alpha$ - градиентный шаг.\n",
    "\n",
    "**Идея:** будем искать такой базовый алгоритм $b_T$, чтобы вектор $(b_T(x_i))_{i=1}^\\ell$ приближал вектор антиградиента $(-g_i)_{i=1}^\\ell$:\n",
    "\n",
    "$$\n",
    "b_T = \\arg\\min_b\\sum_{i=1}^\\ell(b(x_i)+g_i)^2\n",
    "$$"
   ]
  },
  {
   "cell_type": "markdown",
   "metadata": {
    "slideshow": {
     "slide_type": "slide"
    }
   },
   "source": [
    "#### Алгоритм Gradient Boosting\n",
    "\n",
    "Дано: обучающая выборка $X^\\ell$, параметр $T$.\n",
    "\n",
    "Инициализиция весов объектов: $f_i=0$, $i=1, \\ldots, \\ell$.\n",
    "\n",
    "Для всех $t=1, \\ldots, T$\n",
    "\n",
    "$ \\ \\ \\ \\ \\ \\ $базовый алгоритм, приближающий антиградиент $b_t=\\arg\\min_b \\sum_{i=1}^\\ell(b(x_i)+L'(f_i, y_i))^2$;\n",
    "\n",
    "$ \\ \\ \\ \\ \\ \\ $задача одномерной минимизации $\\alpha_t=\\arg\\min_{\\alpha\\gt0}\\sum_{i=1}^\\ell L(f_i+\\alpha b_t(x_i), y_i)$;\n",
    "\n",
    "$ \\ \\ \\ \\ \\ \\ $обновление вектора значений на объектах выборки: $f_i=f_i+\\alpha_t b_t(x_i)$, $i=1, \\ldots, \\ell$."
   ]
  },
  {
   "cell_type": "markdown",
   "metadata": {
    "slideshow": {
     "slide_type": "slide"
    }
   },
   "source": [
    "#### XGBoost - реализация Gradient Boosting\n",
    "\n",
    "Базовые классификаторы: \n",
    "\n",
    "$$\n",
    "b(x) = \\sum_{j=1}^J w_j[x\\in R_j],\n",
    "$$\n",
    "\n",
    "где $R_j$ - область пространства, покрываемая листом $j$, $w_j$ - вес листа, $J$ - число листьев в дереве.\n",
    "\n",
    "Функционал качества:\n",
    "\n",
    "$$\n",
    "Q(b, \\{w_j\\}_{j=1}^J, X^\\ell)=\\sum_{i=1}^\\ell\\Big(\\sum_{t=1}^{T-1}\\alpha_tb_t(x_i)+\\alpha b(x_i), y_i\\Big) + \\\\\n",
    "+\\gamma J + \\mu\\sum_{j=1}^J\\big|w_j\\big| + \\frac{\\lambda}{2}\\sum_{j=1}^Jw_j^2\\rightarrow\\min_{b, \\{w_j\\}}\n",
    "$$"
   ]
  },
  {
   "cell_type": "markdown",
   "metadata": {
    "slideshow": {
     "slide_type": "subslide"
    }
   },
   "source": [
    "XGBoost предполагает 2 способа использования:\n",
    "* sklearn-совместимые классы XGBClassifier, XGBRegressor\n",
    "* \"оригинальная\" python-библиотека"
   ]
  },
  {
   "cell_type": "code",
   "execution_count": 122,
   "metadata": {
    "slideshow": {
     "slide_type": "skip"
    }
   },
   "outputs": [],
   "source": [
    "import xgboost\n",
    "from xgboost import XGBClassifier, XGBRegressor\n",
    "import numpy as np\n",
    "from sklearn.datasets import load_boston\n",
    "from sklearn.cross_validation import KFold\n",
    "from sklearn.metrics import confusion_matrix, mean_squared_error\n",
    "\n",
    "rng = np.random.RandomState(200)\n",
    "\n",
    "boston = load_boston()\n",
    "y = boston['target']\n",
    "X = boston['data']\n",
    "\n",
    "kf = KFold(y.shape[0], n_folds=6, shuffle=True, random_state=rng)"
   ]
  },
  {
   "cell_type": "code",
   "execution_count": 123,
   "metadata": {
    "slideshow": {
     "slide_type": "slide"
    }
   },
   "outputs": [
    {
     "name": "stdout",
     "output_type": "stream",
     "text": [
      "RMSE on fold 0: 14.744231434919653\n",
      "RMSE on fold 1: 9.251750777127478\n",
      "RMSE on fold 2: 11.209489557252008\n",
      "RMSE on fold 3: 5.925723233538298\n",
      "RMSE on fold 4: 12.351955760805211\n",
      "RMSE on fold 5: 8.979855598558842\n"
     ]
    }
   ],
   "source": [
    "xgboost_regr = XGBRegressor()\n",
    "for fold_index, (train_index, test_index) in enumerate(kf):\n",
    "    xgboost_regr.fit(X[train_index], y[train_index])\n",
    "    print(\"RMSE on fold {}: {}\".format(\n",
    "        fold_index,\n",
    "        mean_squared_error(y[test_index], xgboost_regr.predict(X[test_index]))\n",
    "    ))"
   ]
  },
  {
   "cell_type": "markdown",
   "metadata": {
    "slideshow": {
     "slide_type": "subslide"
    }
   },
   "source": [
    "## Особенности"
   ]
  },
  {
   "cell_type": "markdown",
   "metadata": {
    "slideshow": {
     "slide_type": "fragment"
    }
   },
   "source": [
    "Написан на C++, есть обертки на Python, R, Java, Scala\n"
   ]
  },
  {
   "cell_type": "markdown",
   "metadata": {
    "slideshow": {
     "slide_type": "fragment"
    }
   },
   "source": [
    "Умеет обрабатывать разреженные матрицы"
   ]
  },
  {
   "cell_type": "markdown",
   "metadata": {
    "slideshow": {
     "slide_type": "fragment"
    }
   },
   "source": [
    "Категориальные признаки нужно приводить к числовому виду"
   ]
  },
  {
   "cell_type": "markdown",
   "metadata": {
    "slideshow": {
     "slide_type": "fragment"
    }
   },
   "source": [
    "Встроено множество различных функций потерь:\n",
    "\n",
    "* reg:linear\n",
    "* reg:logistic\n",
    "* binary:logistic\n",
    "* ...\n",
    "* имеется возможность реализовать свою функцию потерь"
   ]
  },
  {
   "cell_type": "markdown",
   "metadata": {
    "slideshow": {
     "slide_type": "fragment"
    }
   },
   "source": [
    "Позволяет извлекать \"важности признаков\" (`get_fscore`)"
   ]
  },
  {
   "cell_type": "markdown",
   "metadata": {
    "slideshow": {
     "slide_type": "fragment"
    }
   },
   "source": [
    "Позволяет рисовать деревья (`plot_tree`)"
   ]
  },
  {
   "cell_type": "markdown",
   "metadata": {
    "slideshow": {
     "slide_type": "subslide"
    }
   },
   "source": [
    "#### Настройка\n",
    "\n",
    "`max_depth` - максимальная глубина дерева. Слишком большая глубина ведет к переобучению\n",
    "\n",
    "`min_child_weight` - минимальная сумма весов в листе\n",
    "\n",
    "`colsample_bytree` - сэмплирование по признакам\n",
    "\n",
    "\n",
    "* Выбираем относительно большую learning_rate ($ \\eta \\in [0.05, 0.3]$), подбираем оптимальное число деревьев для выбранного $ \\eta $\n",
    "\n",
    "* Настраиваем параметры деревьев, начиная с самых значимых (max_depth, min_child_weight, gamma, colsample_bytree)\n",
    "\n",
    "* Настраиваем регуляризации ($ \\lambda, \\alpha $)\n",
    "\n",
    "* Уменьшаем learning_rate, пропорционально увеличиваем число деревьев"
   ]
  },
  {
   "cell_type": "markdown",
   "metadata": {
    "slideshow": {
     "slide_type": "slide"
    }
   },
   "source": [
    "### Сравнение бустинга и бэггинга\n",
    "\n",
    "* Бустинг лучше для больших обучающих выборок и для классов с границами сложной формы;\n",
    "* Бэггинг и RSM лучше для коротких обучающих выборок;\n",
    "* RSM хорош в тех случаях, когда признаков больше, чем объектов, или когда много неинформативных признаков;\n",
    " Бэггинг и RSM эффективно распараллеливаются, бустинг выполняется строго последовательно;\n",
    "* Короткие композиции из сильных алгоритмов типа SVM строить труднее, чем длинные из слабых."
   ]
  },
  {
   "cell_type": "markdown",
   "metadata": {
    "slideshow": {
     "slide_type": "slide"
    }
   },
   "source": [
    "### Разложение ошибки на шум, вариацию и смещению."
   ]
  },
  {
   "cell_type": "markdown",
   "metadata": {
    "slideshow": {
     "slide_type": "fragment"
    }
   },
   "source": [
    "Задача регрессии: $y=\\mathbb{R}$.\n",
    "\n",
    "Квадратичная функция потерь: $L(y, a)=(a(x)-y)^2$.\n",
    "\n",
    "Вероятностная постановка: $X^l=(x_i, y_i)_{i=1}^l\\sim p(x, y)$.\n",
    "\n",
    "Метод обучения: $\\mu: 2^X\\rightarrow A$."
   ]
  },
  {
   "cell_type": "markdown",
   "metadata": {
    "slideshow": {
     "slide_type": "fragment"
    }
   },
   "source": [
    "Среднеквадратичный риск:\n",
    "\n",
    "$$\n",
    "R(a) = E_{x, y}(a(x) - y)^2 = \\int_X\\int_Y(a(x)-y)^2p(x, y)dxdy\n",
    "$$\n",
    "\n",
    "Минимум среднеквадратичного риска:\n",
    "\n",
    "$$\n",
    "a^*(x) = E(y|x) = \\int_Yyp(y|x)dy\n",
    "$$\n",
    "\n",
    "Средний ответ обученного алгоритма:\n",
    "\n",
    "$$\n",
    "\\overline{a}(x) = E_{X^l}(\\mu(X^l)(x))\n",
    "$$\n",
    "\n",
    "Мера качества метода обучения $\\mu$:\n",
    "\n",
    "$$\n",
    "Q(\\mu) = E_{X^l}E_{x, y}(\\mu(X^l)(x)-y)^2\n",
    "$$"
   ]
  },
  {
   "cell_type": "markdown",
   "metadata": {
    "slideshow": {
     "slide_type": "fragment"
    }
   },
   "source": [
    "В случае квадратичной функции потерь для любого $\\mu$ выполнено\n",
    "\n",
    "$Q(\\mu) = E_{x, y}\\big(a^*(x)-y\\big)^2 + E_{x, y}\\big(\\overline{a}(x)-a^*(x)\\big)^2 + E_{x, y}E_{X^l}\\big(\\mu(X^l)(x)-\\overline{a}(x)\\big)^2$\n",
    "\n",
    "(шум + смещение + разброс)"
   ]
  },
  {
   "cell_type": "markdown",
   "metadata": {
    "collapsed": true,
    "slideshow": {
     "slide_type": "fragment"
    }
   },
   "source": [
    "<img src=\"bias-and-viarance.png\" style=\"width: 300px;\"/>"
   ]
  },
  {
   "cell_type": "markdown",
   "metadata": {
    "slideshow": {
     "slide_type": "subslide"
    }
   },
   "source": [
    "<img src=\"eVFct.png\" style=\"width: 500px;\"/>"
   ]
  },
  {
   "cell_type": "markdown",
   "metadata": {
    "slideshow": {
     "slide_type": "subslide"
    }
   },
   "source": [
    "_Пример._ Рассмотрим вероятностную модель данных: $p(y|x) = f(x) + N(0, \\sigma^2)$. \n",
    "\n",
    "В качестве регрессора выберем метод $k$ ближайших соседей. Тогда\n",
    "\n",
    "$$\n",
    "a^*(x)=f(x)\n",
    "$$\n",
    "$$\n",
    "\\overline{a}(x)=E_{X^\\ell}\\frac{1}{k}\\sum_{j=1}^{k}f(x^{(j)}),\n",
    "$$\n",
    "\n",
    "где $x^{(j)}$ - $j$-й сосед объекта $x$.\n",
    "\n",
    "Тогда \n",
    "\n",
    "$$\n",
    "Q(\\mu) = \\sigma^2+E_{x,y}\\big(\\overline{a}(x)-f(x)\\big)^2 + \\frac{1}{k}\\sigma^2\n",
    "$$"
   ]
  },
  {
   "cell_type": "code",
   "execution_count": 80,
   "metadata": {
    "collapsed": true,
    "slideshow": {
     "slide_type": "skip"
    }
   },
   "outputs": [],
   "source": [
    "import pandas as pd\n",
    "import numpy as np\n",
    "import matplotlib.pyplot as plt\n",
    "%matplotlib inline\n",
    "\n",
    "from sklearn.tree import DecisionTreeRegressor\n",
    "from sklearn.model_selection import train_test_split\n",
    "from sklearn.metrics import mean_squared_error"
   ]
  },
  {
   "cell_type": "code",
   "execution_count": 76,
   "metadata": {
    "slideshow": {
     "slide_type": "skip"
    }
   },
   "outputs": [],
   "source": [
    "data = np.genfromtxt('blogFeedback/blogData_train.csv', delimiter=',')\n",
    "train, test = train_test_split(data, test_size=0.8)\n",
    "N = 100\n",
    "param_name = 'max_depth'\n",
    "param_values = list(range(1, 16))"
   ]
  },
  {
   "cell_type": "code",
   "execution_count": 79,
   "metadata": {
    "collapsed": true,
    "slideshow": {
     "slide_type": "skip"
    }
   },
   "outputs": [],
   "source": [
    "def estimate_error(N, param_name, param_values, model, train, test):\n",
    "    error, bias, variance = (np.zeros(len(param_values)) for _ in range(3))\n",
    "    for j, param in enumerate(param_values):\n",
    "        y_pred = np.zeros((N, len(test)))\n",
    "        tree = model(**{param_name: param})\n",
    "\n",
    "        for i in range(N):\n",
    "            subtrain = train[np.random.choice(len(train), len(train))]\n",
    "            tree.fit(subtrain[:, :-1], subtrain[:, -1])\n",
    "            y_pred[i, :] = tree.predict(test[:, :-1])\n",
    "\n",
    "        y_pred_mean = np.mean(y_pred, axis=0)\n",
    "        error[j] = np.mean(list(map(lambda x: mean_squared_error(x, test[:, -1]), y_pred)))\n",
    "        bias[j] = mean_squared_error(test[:, -1], y_pred_mean)\n",
    "        variance[j] = np.mean(list(map(lambda x: mean_squared_error(x, y_pred_mean), y_pred)))\n",
    "    return error, bias, variance\n",
    "\n",
    "def plot_error_composition(param_name, param_values, error, bias, variance):\n",
    "    plt.figure(figsize=(20, 10))\n",
    "    for array in ['error', 'bias', 'variance']:\n",
    "        plt.plot(param_values, vars()[array], label=array)\n",
    "    plt.plot(param_values, bias + variance, \".\", label='bias + variance')\n",
    "    plt.xlabel(param_name)\n",
    "    plt.ylabel('parrots')\n",
    "    plt.legend()"
   ]
  },
  {
   "cell_type": "code",
   "execution_count": 81,
   "metadata": {
    "slideshow": {
     "slide_type": "skip"
    }
   },
   "outputs": [],
   "source": [
    "error_dt, bias_dt, variance_dt = estimate_error(N, param_name, param_values, DecisionTreeRegressor, train, test)"
   ]
  },
  {
   "cell_type": "code",
   "execution_count": 82,
   "metadata": {
    "slideshow": {
     "slide_type": "subslide"
    }
   },
   "outputs": [
    {
     "data": {
      "image/png": "[encoded data removed]",
      "text/plain": [
       "<matplotlib.figure.Figure at 0x11a61e9f160>"
      ]
     },
     "metadata": {},
     "output_type": "display_data"
    }
   ],
   "source": [
    "plot_error_composition(param_name, param_values, error_dt, bias_dt, variance_dt)"
   ]
  },
  {
   "cell_type": "markdown",
   "metadata": {
    "slideshow": {
     "slide_type": "slide"
    }
   },
   "source": [
    "## Stacking"
   ]
  },
  {
   "cell_type": "markdown",
   "metadata": {
    "slideshow": {
     "slide_type": "fragment"
    }
   },
   "source": [
    "<img src=\"Stack.png\" style=\"width: 800px;\"/>"
   ]
  },
  {
   "cell_type": "markdown",
   "metadata": {
    "slideshow": {
     "slide_type": "subslide"
    }
   },
   "source": [
    "<img src=\"stacking.png\" style=\"width: 800px;\"/>"
   ]
  },
  {
   "cell_type": "markdown",
   "metadata": {
    "slideshow": {
     "slide_type": "subslide"
    }
   },
   "source": [
    "<img src=\"stacking_fold.png\" style=\"width: 800px;\"/>"
   ]
  }
 ],
 "metadata": {
  "celltoolbar": "Slideshow",
  "kernelspec": {
   "display_name": "Python 3",
   "language": "python",
   "name": "python3"
  },
  "language_info": {
   "codemirror_mode": {
    "name": "ipython",
    "version": 3
   },
   "file_extension": ".py",
   "mimetype": "text/x-python",
   "name": "python",
   "nbconvert_exporter": "python",
   "pygments_lexer": "ipython3",
   "version": "3.6.1"
  }
 },
 "nbformat": 4,
 "nbformat_minor": 2
}
