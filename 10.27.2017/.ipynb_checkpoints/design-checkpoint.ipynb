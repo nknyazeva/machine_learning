{
 "cells": [
  {
   "cell_type": "markdown",
   "metadata": {
    "slideshow": {
     "slide_type": "slide"
    }
   },
   "source": [
    "# Дизайн эксперимента"
   ]
  },
  {
   "cell_type": "markdown",
   "metadata": {
    "slideshow": {
     "slide_type": "slide"
    }
   },
   "source": [
    "**Задача:**\n",
    "Дано пространство $n$-мерное пространство $X$ и число $l$.\n",
    "\n",
    "Необходимо построить выборку размера $l$ из пространства $X$, покрывающую это пространство наиболее равномерно.\n",
    "\n",
    "Далее будем считать, что пространство $X=[0, 1]^n$."
   ]
  },
  {
   "cell_type": "markdown",
   "metadata": {
    "slideshow": {
     "slide_type": "slide"
    }
   },
   "source": [
    "## Метрики равномерности"
   ]
  },
  {
   "cell_type": "markdown",
   "metadata": {
    "slideshow": {
     "slide_type": "subslide"
    }
   },
   "source": [
    "* расхождение (discrepancy) $D$\n",
    "$$\n",
    "P_{u,v}=\\bigotimes_{k=1}^d[u_k, v_k),\n",
    "$$\n",
    "\n",
    "где $0\\le u_k < v_k < 1$ для всех $k=1,\\ldots, d$.\n",
    "\n",
    "$$\n",
    "D(X) = \\sup_{u_k, v_k} \\big|\\frac{(X\\cap P_{u, v})}{N}-\\big|P_{u, v}\\big|\\big|,\n",
    "$$\n",
    "\n",
    "где $\\#(\\cdot)$ - число точек в указанном множестве, $\\big|P_{u,v}\\big|=\\prod_{k=1}^d(v_k-u_k)$ - объем $P_{u, v}$."
   ]
  },
  {
   "cell_type": "markdown",
   "metadata": {
    "slideshow": {
     "slide_type": "subslide"
    }
   },
   "source": [
    "* минимаксное расстояние (minimax interpoint distance) $p$\n",
    "$$\n",
    "p(X)=\\max_i\\min_{j:j\\neq i}||x_i-x_j||,\n",
    "$$"
   ]
  },
  {
   "cell_type": "markdown",
   "metadata": {
    "slideshow": {
     "slide_type": "subslide"
    }
   },
   "source": [
    "* $\\phi$-метрика ($\\phi$-metric)\n",
    "$$\n",
    "\\phi_p(X)=\\big(\\sum_{i > j}^N||x_i-x_j||^{-p}\\big)^{1/p}\n",
    "$$\n",
    "$$\n",
    "\\phi_\\infty(X)=\\frac{1}{\\min_{i>j}||x_i-x_j||}\n",
    "$$"
   ]
  },
  {
   "cell_type": "markdown",
   "metadata": {
    "slideshow": {
     "slide_type": "slide"
    }
   },
   "source": [
    "## Техники дизайна эксперимента"
   ]
  },
  {
   "cell_type": "markdown",
   "metadata": {
    "slideshow": {
     "slide_type": "fragment"
    }
   },
   "source": [
    "Два вида техник:\n",
    "\n",
    "* batch; не позволяют добавлять новые объекты после формирования первого набора.\n",
    "\n",
    "* sequential; можно добавлять новые объекты в любой момент."
   ]
  },
  {
   "cell_type": "markdown",
   "metadata": {
    "slideshow": {
     "slide_type": "slide"
    }
   },
   "source": [
    "<img src=\"FullFactorial_256.png\" style=\"width: 600px;\" />\n",
    "\n",
    "**Плюсы:**\n",
    "* легко генерируется;\n",
    "* поддерживает переменные разных типов;\n",
    "* хорошая равномерность.\n",
    "\n",
    "**Минусы:**\n",
    "* batch;\n",
    "* проклятие размерности."
   ]
  },
  {
   "cell_type": "markdown",
   "metadata": {
    "slideshow": {
     "slide_type": "slide"
    }
   },
   "source": [
    "<img src=\"RandomSeq_256.png\" style=\"width: 600px;\" />\n",
    "\n",
    "**Плюсы:**\n",
    "* легко генерируется;\n",
    "* поддерживает переменные разных типов;\n",
    "* sequential.\n",
    "\n",
    "**Минусы:**\n",
    "* низкая равномерность, особенно при больших размерностях."
   ]
  },
  {
   "cell_type": "markdown",
   "metadata": {
    "slideshow": {
     "slide_type": "slide"
    }
   },
   "source": [
    "<img src=\"LHS_256.png\" style=\"width: 600px;\" />\n",
    "\n",
    "**Плюсы:**\n",
    "* легко генерируется;\n",
    "* поддерживает переменные разных типов;\n",
    "* может сгенерировать выборку с хорошей равномерностью.\n",
    "\n",
    "**Минусы:**\n",
    "* batch;\n",
    "* есть вероятность сгенерировать выборку с низкой равномерностью.\n",
    "\n",
    "<img src=\"LHS_ugly.png\" style=\"float: center; width: 300px;\" />"
   ]
  },
  {
   "cell_type": "markdown",
   "metadata": {
    "slideshow": {
     "slide_type": "slide"
    }
   },
   "source": [
    "<img src=\"OLHS_256.png\" style=\"width: 600px;\" />\n",
    "\n",
    "**Плюсы:**\n",
    "* хорошая равномерность;\n",
    "* поддерживает переменные разных типов.\n",
    "\n",
    "**Минусы:**\n",
    "* batch;\n",
    "* медленно генерируется.\n",
    "\n",
    "Генерируем несколько LHS, выбираем лучший.\n",
    "\n",
    "<tr>\n",
    "    <td> <img src=\"LHS_bad.png\" style=\"float: left; width: 150px;\" /> </td>\n",
    "    <td> <img src=\"LHS_good.png\" style=\"float: left; width: 150px;\" /> </td>\n",
    "</tr>"
   ]
  },
  {
   "cell_type": "markdown",
   "metadata": {
    "slideshow": {
     "slide_type": "slide"
    }
   },
   "source": [
    "<img src=\"HaltonSeq_256.png\" style=\"width: 600px;\" />\n",
    "\n",
    "**Плюсы:**\n",
    "* легко генерируется;\n",
    "* хорошая равномерность на малых ($n<6$) размерностях;\n",
    "* sequential.\n",
    "\n",
    "**Минусы:**\n",
    "* поддерживает только вещественные переменные;\n",
    "* на больших размерностях возникает сильная корреляция.\n",
    "\n",
    "$$\n",
    "\\psi_p(m)=\\sum_{i=0}^{R(m)}\\frac{a_i(m)}{p^{i+1}},\n",
    "$$\n",
    "где $a_i$ - числа из записи $m$ в системе счисления с основанием $p$, $R(m)$ - максимальный индекс, для которого $a_i(m)$ не ноль.\n",
    "\n",
    "$$\n",
    "x_s=\\big(\\psi_{p_1}(s), \\ldots, \\psi_{p_n}(s)\\big),\n",
    "$$\n",
    "где $p_i$ - $i$-ое простое число."
   ]
  },
  {
   "cell_type": "markdown",
   "metadata": {
    "slideshow": {
     "slide_type": "slide"
    }
   },
   "source": [
    "<img src=\"SobolSeq_256.png\" style=\"width: 600px;\" />\n",
    "\n",
    "**Плюсы:**\n",
    "* легко генерируется;\n",
    "* хорошая равномерность на малых размерностях;\n",
    "* sequential.\n",
    "\n",
    "**Минусы:**\n",
    "* поддерживает только вещественные переменные;\n",
    "* на больших размерностях возникает сильная корреляция (хотя меньшая, чем в Halton);\n",
    "* \"симметричность\" выборки.\n",
    "\n",
    "Подробнее можно почитать [тут](https://en.wikipedia.org/wiki/Sobol_sequence)"
   ]
  },
  {
   "cell_type": "markdown",
   "metadata": {
    "slideshow": {
     "slide_type": "slide"
    }
   },
   "source": [
    "<img src=\"FaureSeq_256.png\" style=\"width: 600px;\" />\n",
    "\n",
    "**Плюсы:**\n",
    "* неплохая равномерность;\n",
    "* sequential.\n",
    "\n",
    "**Минусы:**\n",
    "* поддерживает только вещественные переменные;\n",
    "* тяжело вычислима.\n",
    "\n",
    "Подробнее можно почитать [тут](https://www.datadvance.net/product/macros/manual/6.11/guide/gtdoe/techniques.html#faure-sequence)"
   ]
  },
  {
   "cell_type": "markdown",
   "metadata": {
    "slideshow": {
     "slide_type": "slide"
    }
   },
   "source": [
    "## Адаптивный дизайн"
   ]
  },
  {
   "cell_type": "markdown",
   "metadata": {
    "slideshow": {
     "slide_type": "fragment"
    }
   },
   "source": [
    "<img src=\"toy_example.png\" style=\"width: 600px;\" />"
   ]
  },
  {
   "cell_type": "code",
   "execution_count": null,
   "metadata": {
    "collapsed": true
   },
   "outputs": [],
   "source": []
  }
 ],
 "metadata": {
  "celltoolbar": "Slideshow",
  "kernelspec": {
   "display_name": "Python 3",
   "language": "python",
   "name": "python3"
  },
  "language_info": {
   "codemirror_mode": {
    "name": "ipython",
    "version": 3
   },
   "file_extension": ".py",
   "mimetype": "text/x-python",
   "name": "python",
   "nbconvert_exporter": "python",
   "pygments_lexer": "ipython3",
   "version": "3.6.1"
  }
 },
 "nbformat": 4,
 "nbformat_minor": 2
}
