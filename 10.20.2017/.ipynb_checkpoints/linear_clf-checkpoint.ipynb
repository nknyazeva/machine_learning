{
 "cells": [
  {
   "cell_type": "markdown",
   "metadata": {},
   "source": [
    "# Линейный классификатор"
   ]
  },
  {
   "cell_type": "markdown",
   "metadata": {},
   "source": [
    "$X$ - пространство объектов;<br>\n",
    "$Y$ - пространство ответов;<br>\n",
    "$y: X \\rightarrow Y$ - неизвестная функция.\n",
    "\n",
    "**Дано:**  \n",
    "$\\{x_1, \\ldots, x_l\\}\\subset X$ - обучающая выборка (training sample);<br>\n",
    "$y_i=y(x_i), i=1,\\ldots,l$ - известные ответы.\n",
    "\n",
    "**Найти:**<br>\n",
    "$a: X \\rightarrow Y$ - алгоритм, приближающий $y$ на всем множестве $X$."
   ]
  },
  {
   "cell_type": "markdown",
   "metadata": {},
   "source": [
    "-----------------------"
   ]
  },
  {
   "cell_type": "markdown",
   "metadata": {},
   "source": [
    "<img src=\"samples.png\" style=\"width: 300px;\"/>\n",
    "<img src=\"knn.png\" style=\"width: 300px;\"/>\n",
    "<img src=\"tree.png\" style=\"width: 300px;\"/>"
   ]
  },
  {
   "cell_type": "markdown",
   "metadata": {},
   "source": [
    "## Линейно разделимая выборка"
   ]
  },
  {
   "cell_type": "markdown",
   "metadata": {},
   "source": [
    "Будем рассматривать задачу бинарной классификации.\n",
    "\n",
    "**Идея:** найдем гиперплоскость, разделяющую объекты в признаковом пространстве на две полуплоскости, в каждой из которых находятся объекты одного класса.\n",
    "\n",
    "Если такая гиперплоскость существует, выборка называется линейно разделимой."
   ]
  },
  {
   "cell_type": "markdown",
   "metadata": {},
   "source": [
    "<img src=\"linear_classificator.png\" style=\"width: 300px;\"/>"
   ]
  },
  {
   "cell_type": "markdown",
   "metadata": {},
   "source": [
    "---------------------------------------"
   ]
  },
  {
   "cell_type": "markdown",
   "metadata": {},
   "source": [
    "Как задается гиперплоскость?\n",
    "\n",
    "$$\n",
    "w_0 + x_1w_1 + x_2w_2 + \\ldots + x_nw_n = 0\n",
    "$$\n",
    "\n",
    "Поэтому классификатор можно задать следующим образом:\n",
    "\n",
    "$$\n",
    "a(\\bar{x}) = sign\\big(\\langle\\bar{w},\\bar{x}\\rangle+w_0 \\big)\n",
    "$$\n",
    "\n",
    "-------------------------------"
   ]
  },
  {
   "cell_type": "markdown",
   "metadata": {},
   "source": [
    "Задачу с линейно разделимой выборкой можно решить множеством способов."
   ]
  },
  {
   "cell_type": "markdown",
   "metadata": {},
   "source": [
    "<img src=\"multi_lines.png\" style=\"width: 300px;\"/>"
   ]
  },
  {
   "cell_type": "markdown",
   "metadata": {},
   "source": [
    "Какую гиперплоскость выбрать?\n",
    "\n",
    "-----------------------------------------"
   ]
  },
  {
   "cell_type": "markdown",
   "metadata": {},
   "source": [
    "Давайте выберем прямую, наиболее удаленную от объектов каждого из классов.\n",
    "\n",
    "Во-первых, заметим, что такая прямая равноудалена от объектов обоих классов.\n",
    "Объекты, которые находятся ближе всего к прямой, называются опорными векторами.\n",
    "\n",
    "Во-вторых, будем рассматривать \"нормированные\" прямые, то есть такие, что при подстановке опорного вектора в уравнение мы будем получать $\\pm1$."
   ]
  },
  {
   "cell_type": "markdown",
   "metadata": {},
   "source": [
    "<img src=\"distance.png\" style=\"width: 200px;\"/>"
   ]
  },
  {
   "cell_type": "markdown",
   "metadata": {},
   "source": [
    "---------------------------------"
   ]
  },
  {
   "cell_type": "markdown",
   "metadata": {},
   "source": [
    "$p\\big(A, b\\big)=\\frac{|\\langle\\bar{w}, \\bar{x}_A\\rangle+w_0|}{||\\bar{w}||}$\n",
    "\n",
    "Отметим, что тогда выполнено $y_i(\\langle\\bar{w}, \\bar{x}_i\\rangle + w_0)\\ge 1$. Будем называть величину $y_i(\\langle\\bar{w}, \\bar{x}_i\\rangle + w_0)$ отступом объекта. Чем больше отступ, тем больше объект \"погружен\" в свой класс.\n",
    "\n",
    "![](margins.png)\n",
    "<img src=\"margin_hist.png\" style=\"width: 500px;\"/>\n",
    "\n",
    "-------------------------"
   ]
  },
  {
   "cell_type": "markdown",
   "metadata": {},
   "source": [
    "Итак, мы хотим построить такой $\\bar{w}$, что $1 \\big/ ||\\bar{w}||$ - максимально. Давайте искать $\\bar{w}$ такое, что $||\\bar{w}||^2$ - минимально.\n",
    "\n",
    "------------------------------"
   ]
  },
  {
   "cell_type": "markdown",
   "metadata": {},
   "source": [
    "Тогда нам надо решить задачу:\n",
    "\n",
    "$$\n",
    "||w||^2\\rightarrow \\min_w,\n",
    "$$\n",
    "$$\n",
    "y_i(\\langle\\bar{w}, \\bar{x}\\rangle+w_0) \\ge 1, i=1,\\ldots,l\n",
    "$$"
   ]
  },
  {
   "cell_type": "markdown",
   "metadata": {},
   "source": [
    "Это классическая задача нахождения условного экстремума, которая является задачей квадратичного программирования.\n",
    "\n",
    "**Лирическое отступление про линии уровня и условные экстремумы.**"
   ]
  },
  {
   "cell_type": "markdown",
   "metadata": {},
   "source": [
    "<img src=\"levels.gif\" style=\"width: 400px;\"/>"
   ]
  },
  {
   "cell_type": "markdown",
   "metadata": {},
   "source": [
    "<img src=\"condition.png\" style=\"width: 500px;\"/>"
   ]
  },
  {
   "cell_type": "markdown",
   "metadata": {},
   "source": [
    "## Линейно неразделимая выборка"
   ]
  },
  {
   "cell_type": "markdown",
   "metadata": {},
   "source": [
    "<img src=\"unlinear.png\" style=\"width: 300px;\"/>"
   ]
  },
  {
   "cell_type": "markdown",
   "metadata": {},
   "source": [
    "Попробуем идти классическим способом:\n",
    "\n",
    "$$\n",
    "L(a(\\bar{x}_i), y_i) = \\big[a(\\bar{x}_i)y_i<0\\big]\n",
    "$$\n",
    "$$\n",
    "Q(w) = \\frac{1}{l}\\sum_{i=1}^lL(a(\\bar{x}_i), y_i)\\rightarrow\\min_w\n",
    "$$\n",
    "$$\n",
    "Q(w) = \\frac{1}{l}\\sum_{i=1}^l\\big[\\big(\\langle\\bar{w},\\bar{x}_i\\rangle+w_0\\big)y_i<0\\big]\\rightarrow\\min_w\n",
    "$$"
   ]
  },
  {
   "cell_type": "markdown",
   "metadata": {},
   "source": [
    "Получаем очень сложную задачу! Давайте попробуем рассмотреть другую функцию потерь $L\\big((\\langle\\bar{w},\\bar{x}_i\\rangle+w_0)y_i\\big)$. Хотелось бы, чтобы эта функция была гладкая."
   ]
  },
  {
   "cell_type": "markdown",
   "metadata": {},
   "source": [
    "<img src=\"loss_func.png\" style=\"width: 500px;\"/>"
   ]
  },
  {
   "cell_type": "markdown",
   "metadata": {},
   "source": [
    "-----------------------\n",
    "\n",
    "**Идея:** давайте изначально возьмем некоторую линейную модель, а потом будем ее улучшать.\n",
    "\n",
    "Пусть $L_i(w)$ - потери на $i$-ом объекте с вектором весов $w$.\n",
    "\n",
    "$$\n",
    "Q(w) = \\frac{1}{l}\\sum_{i=1}^lL_i(w)\\rightarrow\\min_w\n",
    "$$\n",
    "\n",
    "$w^{(0)}$ - начальный вектор весов.\n",
    "\n",
    "$w^{(t+1)}=w^{(t)}-h\\cdot\\nabla Q(w^{(t)})$ - обновление весов; $\\nabla Q(w^{(t)})=\\big(\\frac{\\partial Q(w)}{\\partial w_j}\\big)_{j=0}^n$; $h$ - градиентный шаг (темп обучения).\n",
    "\n",
    "$$\n",
    "w^{(t+1)}=w^{(t)}-h \\frac{1}{l}\\sum_{i=1}^l\\nabla L_i(w)\n",
    "$$"
   ]
  },
  {
   "cell_type": "markdown",
   "metadata": {},
   "source": [
    "<img src=\"grad2d.png\" style=\"width: 500px;\"/>\n",
    "<img src=\"grad.png\" style=\"width: 500px;\"/>"
   ]
  },
  {
   "cell_type": "markdown",
   "metadata": {},
   "source": [
    "**Улучшение:** брать $(x_i, y_i)$ случайно и делать шаг по одному объекту.\n",
    "\n",
    "<img src=\"algo_stg.png\" style=\"width: 500px;\"/>\n",
    "<img src=\"loss.png\" style=\"width: 300px;\"/>\n",
    "<img src=\"step.png\" style=\"width: 500px;\"/>"
   ]
  },
  {
   "cell_type": "markdown",
   "metadata": {},
   "source": [
    "**Как выбрать начальные веса?**\n",
    "* нулевые;\n",
    "* небольшие рандомные значения;\n",
    "* $w_j = \\frac{\\langle y,\\ f_j\\rangle}{\\langle f_j,\\ f_j\\rangle}$;\n",
    "* обучение по небольшой случайной подвыборке признаков;\n",
    "* мультистарт."
   ]
  },
  {
   "cell_type": "markdown",
   "metadata": {},
   "source": [
    "**Как выбрать шаг?**\n",
    "* постоянный;\n",
    "* уменьшающийся."
   ]
  },
  {
   "cell_type": "markdown",
   "metadata": {},
   "source": [
    "**Особенности метода:**\n",
    "* может работать с разными функциями потерь;\n",
    "* подходит для работы с большими данными;\n",
    "* возможно застревание в локальных экстремумах;\n",
    "* возможны расходимость или медленная сходимость;\n",
    "* сложно подбирать параметры;\n",
    "* переобучение."
   ]
  },
  {
   "cell_type": "markdown",
   "metadata": {},
   "source": [
    "**Как бороться с переобучением?**\n",
    "* регуляризации (подробнее - на лекции о регрессии)."
   ]
  },
  {
   "cell_type": "markdown",
   "metadata": {},
   "source": [
    "$$\n",
    "\\tilde{L}_i(w) = L_i(w) + \\frac{\\tau}{2}||w||^2\n",
    "$$\n",
    "$$\n",
    "\\nabla\\tilde{L}_i(w) = \\nabla L_i(w) + \\tau w\n",
    "$$\n",
    "$$\n",
    "w^{(t+1)}=w^{(t)}(1-\\tau h)-h \\frac{1}{l}\\sum_{i=1}^l\\nabla L_i(w)\n",
    "$$"
   ]
  },
  {
   "cell_type": "markdown",
   "metadata": {},
   "source": [
    "## Штрафы в линейно неразделимой задаче"
   ]
  },
  {
   "cell_type": "markdown",
   "metadata": {
    "collapsed": true
   },
   "source": [
    "Вспомним про задачу с линейно разделимой выборкой\n",
    "\n",
    "$$\n",
    "\\begin{cases}\n",
    "\\frac{1}{2}||w||^2\\rightarrow \\min, \\\\\n",
    "y_i(\\langle\\bar{w}, \\bar{x}\\rangle+w_0) \\ge 1,\\ i=1,\\ldots,l\n",
    "\\end{cases}\n",
    "$$\n",
    "\n",
    "Попробуем применить ее к задаче с линейно неразделимой выборкой\n",
    "\n",
    "$$\n",
    "\\begin{cases}\n",
    "\\frac{1}{2}||w||^2 + C\\sum_{i=1}^l\\xi_i \\rightarrow \\min_{w,w_0, \\xi}, \\\\\n",
    "y_i(\\langle\\bar{w}, \\bar{x}\\rangle+w_0) \\ge 1-\\xi_i,\\ i=1,\\ldots,l \\\\\n",
    "\\xi_i\\ge0,\\ i=1,\\ldots,l\n",
    "\\end{cases}\n",
    "$$"
   ]
  },
  {
   "cell_type": "markdown",
   "metadata": {},
   "source": [
    "Значит,\n",
    "$$\n",
    "C\\sum_{i=1}^l(1-M_i(w, w_0))_{+}+\\frac{1}{2}||w||^2 \\rightarrow \\min_{w,w_0},\n",
    "$$"
   ]
  },
  {
   "cell_type": "markdown",
   "metadata": {},
   "source": [
    "Это задача решается с помощью задачи [Каруша-Куна-Таккера](https://en.wikipedia.org/wiki/Karush–Kuhn–Tucker_conditions).\n",
    "\n",
    "$$\n",
    "L(w, w_0, \\xi, \\lambda, \\eta) = \\frac{1}{2}||w||^2 - \\sum_{i=1}^l\\lambda_i(M_i(w, w_0)-1)-\\sum_{i=1}^l\\xi_i(\\lambda_i+\\eta_i-C)\n",
    "$$\n",
    "\n",
    "$$\n",
    "\\begin{cases}\n",
    "\\frac{\\partial L}{\\partial w}=0, \\\\\n",
    "\\frac{\\partial L}{\\partial w_0}=0, \\\\\n",
    "\\frac{\\partial L}{\\partial \\xi}=0, \\\\\n",
    "\\xi_i\\ge 0,\\ i=1,\\ldots,l, \\\\\n",
    "\\lambda_i \\ge 0,\\ i=1,\\ldots,l, \\\\\n",
    "\\eta_i\\ge 0,\\ i=1,\\ldots,l, \\\\\n",
    "\\lambda_i=0\\ or\\ M_i(w, w_0)=1-\\xi_i,\\ i=1,\\ldots,l,\\\\\n",
    "\\eta_i=0\\ or\\ \\xi_i=0,\\ i=1,\\ldots,l,\n",
    "\\end{cases}\n",
    "$$\n",
    "\n",
    "Несложными преобразованиями получаем, что\n",
    "\n",
    "$$\n",
    "\\begin{cases}\n",
    "w=\\sum_{i=1}^l\\lambda_iy_ix_i \\\\\n",
    "\\sum_{i=1}^l\\lambda_iy_i=0 \\\\\n",
    "\\eta_i+\\lambda_i=C \\\\\n",
    "\\end{cases}\n",
    "$$"
   ]
  },
  {
   "cell_type": "markdown",
   "metadata": {},
   "source": [
    "Типизация объектов:\n",
    "* неинформативные объекты ($\\lambda_i=0,\\ \\eta_i=C,\\xi_i=0,\\ M_i\\ge1$);\n",
    "* опорные граничные объекты ($0<\\lambda_i<C,\\ 0<\\eta_i<C,\\xi_i=0,\\ M_i=1$);\n",
    "* опорные нарушители ($\\lambda_i=C,\\ \\eta_i=0,\\xi_i>0,\\ M_i<1$)"
   ]
  },
  {
   "cell_type": "markdown",
   "metadata": {},
   "source": [
    "Получаем следующую задачу:\n",
    "\n",
    "$$\n",
    "\\begin{cases}\n",
    "-L(\\lambda)=-\\sum_{i=1}^l\\lambda_i+\\frac{1}{2}\\sum_{i=1}^l\\sum_{j=1}^l\\lambda_i\\lambda_jy_iy_j\\langle x_i, x_j\\rangle\\rightarrow\\min_\\lambda, \\\\\n",
    "0\\le\\lambda_i\\le C,\\ i=1,\\ldots,l,\\\\\n",
    "\\sum_{i=1}^l\\lambda_iy_i=0\n",
    "\\end{cases}\n",
    "$$\n",
    "\n",
    "Решим ее, найдем:\n",
    "\n",
    "$$\n",
    "\\begin{cases}\n",
    "w=\\sum_{i=1}^l\\lambda_iy_ix_i \\\\\n",
    "w_0 = \\langle w, x_i \\rangle - y_i,\\ i: \\lambda_i>0, M_i=1 \n",
    "\\end{cases}\n",
    "$$\n",
    "\n",
    "Итого\n",
    "\n",
    "$$\n",
    "a(x) = sign\\big(\\sum_{i=1}^l\\lambda_iy_i\\langle x_i, x\\rangle+w_0\\big)\n",
    "$$\n",
    "\n",
    "Теперь есть новые признаки: $f'_i(x)=\\langle x_i, x\\rangle$"
   ]
  },
  {
   "cell_type": "code",
   "execution_count": null,
   "metadata": {
    "collapsed": true
   },
   "outputs": [],
   "source": []
  }
 ],
 "metadata": {
  "kernelspec": {
   "display_name": "Python 3",
   "language": "python",
   "name": "python3"
  },
  "language_info": {
   "codemirror_mode": {
    "name": "ipython",
    "version": 3
   },
   "file_extension": ".py",
   "mimetype": "text/x-python",
   "name": "python",
   "nbconvert_exporter": "python",
   "pygments_lexer": "ipython3",
   "version": "3.6.1"
  }
 },
 "nbformat": 4,
 "nbformat_minor": 2
}
